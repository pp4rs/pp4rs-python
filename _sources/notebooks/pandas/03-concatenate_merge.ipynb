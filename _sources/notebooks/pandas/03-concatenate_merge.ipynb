{
 "cells": [
  {
   "cell_type": "markdown",
   "metadata": {},
   "source": [
    "## Concatenating and Merging Data\n",
    "\n",
    "* Contact: Lachlan Deer, [econgit] @ldeer, [github/twitter] @lachlandeer\n",
    "\n",
    "In the previous lesson we learned how to import a single data set from a file and how to write a pandas DataFrame to a file once we are finished working on it. Another common task is to bring multiple datasets together, either by:\n",
    "\n",
    "1. concatenating/appending them, i.e adding new data about the same variables\n",
    "2. merging data: adding new data about different variables for the same index.\n",
    "\n",
    "That's the focus of this lesson!"
   ]
  },
  {
   "cell_type": "code",
   "execution_count": 1,
   "metadata": {
    "collapsed": true
   },
   "outputs": [],
   "source": [
    "import glob\n",
    "import pandas as pd\n",
    "import os"
   ]
  },
  {
   "cell_type": "markdown",
   "metadata": {},
   "source": [
    "## Finding Files that look alike\n",
    "\n",
    "In our main data directory `data/bls-employment-state` we have a lot of different data files, but groups of them share common information, for example:\n",
    "\n",
    "* All files that end in *03 contain information on given states unemployment rates by month, similarly for file endings *04,*05 and *06.\n",
    "* All files that contain *ST01* contain data about the labor market in Alabama\n",
    "\n",
    "We can piece these files together into one pandas DataFrame that contains all employment statistics that we want to work with in what follows.\n",
    "\n",
    "The glob library contains a function, also called glob, that finds files and directories whose names match a pattern. We provide those patterns as strings: the character * matches zero or more characters, while ? matches any one character. \n",
    "\n",
    "We can use this to get the names of CSV files that match a certain pattern. For example we can find all files about unemployment rates as follows:"
   ]
  },
  {
   "cell_type": "code",
   "execution_count": 2,
   "metadata": {
    "collapsed": false
   },
   "outputs": [
    {
     "data": {
      "text/plain": [
       "['data/bls-employment-state/LAUST240000000000003.csv',\n",
       " 'data/bls-employment-state/LAUST260000000000003.csv',\n",
       " 'data/bls-employment-state/LAUST170000000000003.csv',\n",
       " 'data/bls-employment-state/LAUST060000000000003.csv',\n",
       " 'data/bls-employment-state/LAUST720000000000003.csv',\n",
       " 'data/bls-employment-state/LAUST160000000000003.csv',\n",
       " 'data/bls-employment-state/LAUST250000000000003.csv',\n",
       " 'data/bls-employment-state/LAUST420000000000003.csv',\n",
       " 'data/bls-employment-state/LAUST370000000000003.csv',\n",
       " 'data/bls-employment-state/LAUST280000000000003.csv',\n",
       " 'data/bls-employment-state/LAUST210000000000003.csv',\n",
       " 'data/bls-employment-state/LAUST190000000000003.csv',\n",
       " 'data/bls-employment-state/LAUST400000000000003.csv',\n",
       " 'data/bls-employment-state/LAUST270000000000003.csv',\n",
       " 'data/bls-employment-state/LAUST510000000000003.csv',\n",
       " 'data/bls-employment-state/LAUST360000000000003.csv',\n",
       " 'data/bls-employment-state/LAUST540000000000003.csv',\n",
       " 'data/bls-employment-state/LAUST180000000000003.csv',\n",
       " 'data/bls-employment-state/LAUST320000000000003.csv',\n",
       " 'data/bls-employment-state/LAUST220000000000003.csv',\n",
       " 'data/bls-employment-state/LAUST310000000000003.csv',\n",
       " 'data/bls-employment-state/LAUST410000000000003.csv',\n",
       " 'data/bls-employment-state/LAUST230000000000003.csv',\n",
       " 'data/bls-employment-state/LAUST290000000000003.csv',\n",
       " 'data/bls-employment-state/LAUST350000000000003.csv',\n",
       " 'data/bls-employment-state/LAUST500000000000003.csv',\n",
       " 'data/bls-employment-state/LAUST300000000000003.csv',\n",
       " 'data/bls-employment-state/LAUST130000000000003.csv',\n",
       " 'data/bls-employment-state/LAUST470000000000003.csv',\n",
       " 'data/bls-employment-state/LAUST110000000000003.csv',\n",
       " 'data/bls-employment-state/LAUST040000000000003.csv',\n",
       " 'data/bls-employment-state/LAUST490000000000003.csv',\n",
       " 'data/bls-employment-state/LAUST120000000000003.csv',\n",
       " 'data/bls-employment-state/LAUST330000000000003.csv',\n",
       " 'data/bls-employment-state/LAUST090000000000003.csv',\n",
       " 'data/bls-employment-state/LAUST390000000000003.csv',\n",
       " 'data/bls-employment-state/LAUST340000000000003.csv',\n",
       " 'data/bls-employment-state/LAUST560000000000003.csv',\n",
       " 'data/bls-employment-state/LAUST080000000000003.csv',\n",
       " 'data/bls-employment-state/LAUST100000000000003.csv',\n",
       " 'data/bls-employment-state/LAUST050000000000003.csv',\n",
       " 'data/bls-employment-state/LAUST460000000000003.csv',\n",
       " 'data/bls-employment-state/LAUST150000000000003.csv',\n",
       " 'data/bls-employment-state/LAUST010000000000003.csv',\n",
       " 'data/bls-employment-state/LAUST450000000000003.csv',\n",
       " 'data/bls-employment-state/LAUST440000000000003.csv',\n",
       " 'data/bls-employment-state/LAUST530000000000003.csv',\n",
       " 'data/bls-employment-state/LAUST550000000000003.csv',\n",
       " 'data/bls-employment-state/LAUST480000000000003.csv',\n",
       " 'data/bls-employment-state/LAUST380000000000003.csv',\n",
       " 'data/bls-employment-state/LAUST020000000000003.csv',\n",
       " 'data/bls-employment-state/LAUST200000000000003.csv']"
      ]
     },
     "execution_count": 2,
     "metadata": {},
     "output_type": "execute_result"
    }
   ],
   "source": [
    "pathRoot = r'data/bls-employment-state/'      # use your path\n",
    "# advisable to use os.path.join as this makes concatenation OS independent\n",
    "unemploymentFiles = glob.glob(os.path.join(pathRoot, \"*03.csv\")) \n",
    "unemploymentFiles"
   ]
  },
  {
   "cell_type": "markdown",
   "metadata": {},
   "source": [
    "Let's verify that has all the states:"
   ]
  },
  {
   "cell_type": "code",
   "execution_count": 3,
   "metadata": {
    "collapsed": false
   },
   "outputs": [],
   "source": [
    "assert len(unemploymentFiles) == 52"
   ]
  },
  {
   "cell_type": "markdown",
   "metadata": {},
   "source": [
    "the `assert` statement yielded no output to the console, this means the logical statement is True, and we can continue knowing we are dealing with *all* states data"
   ]
  },
  {
   "cell_type": "markdown",
   "metadata": {},
   "source": [
    "Now we need to write a command that imports the data. We do this in two steps, first we write a `read_csv()` call that will correctly import an individual data set; then we loop over all datasets using the command.\n",
    "\n",
    "Using what we learned in 02-importingData, lets set up a import command"
   ]
  },
  {
   "cell_type": "code",
   "execution_count": 4,
   "metadata": {
    "collapsed": true
   },
   "outputs": [],
   "source": [
    "test_import = pd.read_csv('data/bls-employment-state/LAUST010000000000003.csv',\n",
    "                usecols =['state', 'year', 'period', 'value'],\n",
    "                index_col = ['state','period', 'year'])"
   ]
  },
  {
   "cell_type": "code",
   "execution_count": 5,
   "metadata": {
    "collapsed": false
   },
   "outputs": [
    {
     "data": {
      "text/html": [
       "<div>\n",
       "<table border=\"1\" class=\"dataframe\">\n",
       "  <thead>\n",
       "    <tr style=\"text-align: right;\">\n",
       "      <th></th>\n",
       "      <th></th>\n",
       "      <th></th>\n",
       "      <th>value</th>\n",
       "    </tr>\n",
       "    <tr>\n",
       "      <th>state</th>\n",
       "      <th>period</th>\n",
       "      <th>year</th>\n",
       "      <th></th>\n",
       "    </tr>\n",
       "  </thead>\n",
       "  <tbody>\n",
       "    <tr>\n",
       "      <th rowspan=\"5\" valign=\"top\">Alabama</th>\n",
       "      <th>M12</th>\n",
       "      <th>2016</th>\n",
       "      <td>5.9</td>\n",
       "    </tr>\n",
       "    <tr>\n",
       "      <th>M11</th>\n",
       "      <th>2016</th>\n",
       "      <td>5.7</td>\n",
       "    </tr>\n",
       "    <tr>\n",
       "      <th>M10</th>\n",
       "      <th>2016</th>\n",
       "      <td>6.2</td>\n",
       "    </tr>\n",
       "    <tr>\n",
       "      <th>M09</th>\n",
       "      <th>2016</th>\n",
       "      <td>6.2</td>\n",
       "    </tr>\n",
       "    <tr>\n",
       "      <th>M08</th>\n",
       "      <th>2016</th>\n",
       "      <td>6.2</td>\n",
       "    </tr>\n",
       "  </tbody>\n",
       "</table>\n",
       "</div>"
      ],
      "text/plain": [
       "                     value\n",
       "state   period year       \n",
       "Alabama M12    2016    5.9\n",
       "        M11    2016    5.7\n",
       "        M10    2016    6.2\n",
       "        M09    2016    6.2\n",
       "        M08    2016    6.2"
      ]
     },
     "execution_count": 5,
     "metadata": {},
     "output_type": "execute_result"
    }
   ],
   "source": [
    "test_import.head()"
   ]
  },
  {
   "cell_type": "markdown",
   "metadata": {},
   "source": [
    "Nice that works well! Now we need to nest that inside a loop over all files:"
   ]
  },
  {
   "cell_type": "code",
   "execution_count": 6,
   "metadata": {
    "collapsed": true
   },
   "outputs": [],
   "source": [
    "unemp_data = (pd.read_csv(iFile,\n",
    "                            usecols =['state', 'year', 'period', 'value'],\n",
    "                            index_col = ['state','period', 'year']) \\\n",
    "              for iFile in unemploymentFiles)"
   ]
  },
  {
   "cell_type": "code",
   "execution_count": 7,
   "metadata": {
    "collapsed": false
   },
   "outputs": [
    {
     "data": {
      "text/plain": [
       "generator"
      ]
     },
     "execution_count": 7,
     "metadata": {},
     "output_type": "execute_result"
    }
   ],
   "source": [
    "type(unemp_data)"
   ]
  },
  {
   "cell_type": "markdown",
   "metadata": {},
   "source": [
    "Hmmm, that's a type we haven't seen before in Julian's classes... so it probably needs a brief explanation:\n",
    "\n",
    "A generator is simply a function which returns an object on which you can call next, such that for every call it returns some value, until it raises a StopIteration exception, signaling that all values have been generated. Such an object is called an iterator.\n",
    "\n",
    "For us, what this has done is provide a function that will loop over all unemployment files, reading each in according to the `read_csv()` call we built. Note that it hasn't actually executed anything.\n",
    "\n",
    "Now we want to get all those unemployment data sets appended to each other. We do that using the `pd.concat()` function applied to the generator function:"
   ]
  },
  {
   "cell_type": "code",
   "execution_count": 8,
   "metadata": {
    "collapsed": true
   },
   "outputs": [],
   "source": [
    "unemployment = pd.concat(unemp_data)"
   ]
  },
  {
   "cell_type": "markdown",
   "metadata": {},
   "source": [
    "let's checkout what we get returned:"
   ]
  },
  {
   "cell_type": "code",
   "execution_count": 9,
   "metadata": {
    "collapsed": false
   },
   "outputs": [
    {
     "data": {
      "text/html": [
       "<div>\n",
       "<table border=\"1\" class=\"dataframe\">\n",
       "  <thead>\n",
       "    <tr style=\"text-align: right;\">\n",
       "      <th></th>\n",
       "      <th></th>\n",
       "      <th></th>\n",
       "      <th>value</th>\n",
       "    </tr>\n",
       "    <tr>\n",
       "      <th>state</th>\n",
       "      <th>period</th>\n",
       "      <th>year</th>\n",
       "      <th></th>\n",
       "    </tr>\n",
       "  </thead>\n",
       "  <tbody>\n",
       "    <tr>\n",
       "      <th rowspan=\"5\" valign=\"top\">Maryland</th>\n",
       "      <th>M12</th>\n",
       "      <th>2016</th>\n",
       "      <td>3.9</td>\n",
       "    </tr>\n",
       "    <tr>\n",
       "      <th>M11</th>\n",
       "      <th>2016</th>\n",
       "      <td>4.0</td>\n",
       "    </tr>\n",
       "    <tr>\n",
       "      <th>M10</th>\n",
       "      <th>2016</th>\n",
       "      <td>4.2</td>\n",
       "    </tr>\n",
       "    <tr>\n",
       "      <th>M09</th>\n",
       "      <th>2016</th>\n",
       "      <td>4.2</td>\n",
       "    </tr>\n",
       "    <tr>\n",
       "      <th>M08</th>\n",
       "      <th>2016</th>\n",
       "      <td>4.4</td>\n",
       "    </tr>\n",
       "  </tbody>\n",
       "</table>\n",
       "</div>"
      ],
      "text/plain": [
       "                      value\n",
       "state    period year       \n",
       "Maryland M12    2016    3.9\n",
       "         M11    2016    4.0\n",
       "         M10    2016    4.2\n",
       "         M09    2016    4.2\n",
       "         M08    2016    4.4"
      ]
     },
     "execution_count": 9,
     "metadata": {},
     "output_type": "execute_result"
    }
   ],
   "source": [
    "unemployment.head()"
   ]
  },
  {
   "cell_type": "code",
   "execution_count": 10,
   "metadata": {
    "collapsed": false
   },
   "outputs": [
    {
     "data": {
      "text/html": [
       "<div>\n",
       "<table border=\"1\" class=\"dataframe\">\n",
       "  <thead>\n",
       "    <tr style=\"text-align: right;\">\n",
       "      <th></th>\n",
       "      <th></th>\n",
       "      <th></th>\n",
       "      <th>value</th>\n",
       "    </tr>\n",
       "    <tr>\n",
       "      <th>state</th>\n",
       "      <th>period</th>\n",
       "      <th>year</th>\n",
       "      <th></th>\n",
       "    </tr>\n",
       "  </thead>\n",
       "  <tbody>\n",
       "    <tr>\n",
       "      <th rowspan=\"5\" valign=\"top\">Kansas</th>\n",
       "      <th>M05</th>\n",
       "      <th>2000</th>\n",
       "      <td>3.4</td>\n",
       "    </tr>\n",
       "    <tr>\n",
       "      <th>M04</th>\n",
       "      <th>2000</th>\n",
       "      <td>3.2</td>\n",
       "    </tr>\n",
       "    <tr>\n",
       "      <th>M03</th>\n",
       "      <th>2000</th>\n",
       "      <td>3.7</td>\n",
       "    </tr>\n",
       "    <tr>\n",
       "      <th>M02</th>\n",
       "      <th>2000</th>\n",
       "      <td>3.6</td>\n",
       "    </tr>\n",
       "    <tr>\n",
       "      <th>M01</th>\n",
       "      <th>2000</th>\n",
       "      <td>3.7</td>\n",
       "    </tr>\n",
       "  </tbody>\n",
       "</table>\n",
       "</div>"
      ],
      "text/plain": [
       "                    value\n",
       "state  period year       \n",
       "Kansas M05    2000    3.4\n",
       "       M04    2000    3.2\n",
       "       M03    2000    3.7\n",
       "       M02    2000    3.6\n",
       "       M01    2000    3.7"
      ]
     },
     "execution_count": 10,
     "metadata": {},
     "output_type": "execute_result"
    }
   ],
   "source": [
    "unemployment.tail()"
   ]
  },
  {
   "cell_type": "markdown",
   "metadata": {},
   "source": [
    "If this worked correctly, we should have 52 x 17 x 12 observations:"
   ]
  },
  {
   "cell_type": "code",
   "execution_count": 11,
   "metadata": {
    "collapsed": false
   },
   "outputs": [],
   "source": [
    "assert unemployment.shape[0] == 52 * 17 * 12"
   ]
  },
  {
   "cell_type": "markdown",
   "metadata": {},
   "source": [
    "Cool! Note this only worked to give the exact number because each state has the same number of observations in the its original data set."
   ]
  },
  {
   "cell_type": "markdown",
   "metadata": {},
   "source": [
    "### Challenge:\n",
    "\n",
    "Use the template above to append all state's data for the following series, each as separate DataFrames:\n",
    "* all files ending in *04 as `qty_unemployed`\n",
    "* all files ending in 05 as `qty_employed`\n",
    "* all files ending in *06 as `labor_force`\n",
    "\n",
    "*Hint: write a function that generates the list and returns the appended data*"
   ]
  },
  {
   "cell_type": "markdown",
   "metadata": {},
   "source": [
    "#### Solution\n"
   ]
  },
  {
   "cell_type": "code",
   "execution_count": 12,
   "metadata": {
    "collapsed": false
   },
   "outputs": [],
   "source": [
    "## list the files\n",
    "qty_unemploymentFiles = glob.glob(os.path.join(pathRoot, \"*04.csv\")) \n",
    "qty_employmentFiles   = glob.glob(os.path.join(pathRoot, \"*05.csv\")) \n",
    "labor_forceFiles      = glob.glob(os.path.join(pathRoot, \"*06.csv\")) "
   ]
  },
  {
   "cell_type": "code",
   "execution_count": 13,
   "metadata": {
    "collapsed": true
   },
   "outputs": [],
   "source": [
    "def appendData(fileList):\n",
    "    data_generator = (pd.read_csv(iFile,\n",
    "                            usecols =['state', 'year', 'period', 'value'],\n",
    "                            index_col = ['state','period', 'year']) \\\n",
    "                      for iFile in fileList)\n",
    "    return pd.concat(data_generator)"
   ]
  },
  {
   "cell_type": "code",
   "execution_count": 14,
   "metadata": {
    "collapsed": true
   },
   "outputs": [],
   "source": [
    "qty_unemployment = appendData(qty_unemploymentFiles)\n",
    "qty_employment   = appendData(qty_employmentFiles)\n",
    "labor_force      = appendData(labor_forceFiles)"
   ]
  },
  {
   "cell_type": "code",
   "execution_count": 15,
   "metadata": {
    "collapsed": false
   },
   "outputs": [],
   "source": [
    "assert qty_unemployment.shape[0] == 52 * 17 * 12\n",
    "assert qty_employment.shape[0]   == 52 * 17 * 12\n",
    "assert labor_force.shape[0]      == 52 * 17 * 12"
   ]
  },
  {
   "cell_type": "markdown",
   "metadata": {},
   "source": [
    "## Merging Data"
   ]
  },
  {
   "cell_type": "markdown",
   "metadata": {},
   "source": [
    "Now we have 4 data sets, that each tell us something about the labor market in a state-month pair. Ideally we want these combined into one big data set - this is where merging comes in.\n",
    "\n",
    "Pandas comes with the `merge()` function where you can merge dataSetA to dataSetB using\n",
    "```\n",
    "mergedData = dataSetA.merge(dataSetB, \n",
    "                            left_on='Key', right_on='Key', how='method')\n",
    "```\n",
    "we want to keep only the data where each data-set successfully finds its 'partner' in the other data set, this is an *inner-join*, so we can set `how='inner'`.\n",
    "Since we merge on the index, we don't have to specify the `*_on` inputs, but instead set `*_index=True`.\n",
    "\n",
    "Before we proceed though - each of our data set's main variables have the same variable name, `value`, lets change these to something meaningful"
   ]
  },
  {
   "cell_type": "code",
   "execution_count": 16,
   "metadata": {
    "collapsed": true
   },
   "outputs": [],
   "source": [
    "unemployment.rename(columns={'value': 'unemployment_rate'},\n",
    "                    inplace=True)\n",
    "qty_employment.rename(columns={'value': 'qty_employed'},\n",
    "                    inplace=True)\n",
    "qty_unemployment.rename(columns={'value': 'qty_unemployed'},\n",
    "                    inplace=True)\n",
    "labor_force.rename(columns={'value': 'labour_force'},\n",
    "                    inplace=True)"
   ]
  },
  {
   "cell_type": "code",
   "execution_count": 17,
   "metadata": {
    "collapsed": false
   },
   "outputs": [],
   "source": [
    "merged_data = unemployment.merge(qty_unemployment, \n",
    "                                 left_index  = True,\n",
    "                                 right_index = True,\n",
    "                                 how='inner')"
   ]
  },
  {
   "cell_type": "code",
   "execution_count": 18,
   "metadata": {
    "collapsed": false
   },
   "outputs": [
    {
     "data": {
      "text/html": [
       "<div>\n",
       "<table border=\"1\" class=\"dataframe\">\n",
       "  <thead>\n",
       "    <tr style=\"text-align: right;\">\n",
       "      <th></th>\n",
       "      <th></th>\n",
       "      <th></th>\n",
       "      <th>unemployment_rate</th>\n",
       "      <th>qty_unemployed</th>\n",
       "    </tr>\n",
       "    <tr>\n",
       "      <th>state</th>\n",
       "      <th>period</th>\n",
       "      <th>year</th>\n",
       "      <th></th>\n",
       "      <th></th>\n",
       "    </tr>\n",
       "  </thead>\n",
       "  <tbody>\n",
       "    <tr>\n",
       "      <th rowspan=\"5\" valign=\"top\">Alabama</th>\n",
       "      <th rowspan=\"5\" valign=\"top\">M01</th>\n",
       "      <th>2000</th>\n",
       "      <td>5.1</td>\n",
       "      <td>108551</td>\n",
       "    </tr>\n",
       "    <tr>\n",
       "      <th>2001</th>\n",
       "      <td>5.2</td>\n",
       "      <td>110035</td>\n",
       "    </tr>\n",
       "    <tr>\n",
       "      <th>2002</th>\n",
       "      <td>6.5</td>\n",
       "      <td>134750</td>\n",
       "    </tr>\n",
       "    <tr>\n",
       "      <th>2003</th>\n",
       "      <td>6.2</td>\n",
       "      <td>129966</td>\n",
       "    </tr>\n",
       "    <tr>\n",
       "      <th>2004</th>\n",
       "      <td>6.4</td>\n",
       "      <td>134673</td>\n",
       "    </tr>\n",
       "  </tbody>\n",
       "</table>\n",
       "</div>"
      ],
      "text/plain": [
       "                     unemployment_rate  qty_unemployed\n",
       "state   period year                                   \n",
       "Alabama M01    2000                5.1          108551\n",
       "               2001                5.2          110035\n",
       "               2002                6.5          134750\n",
       "               2003                6.2          129966\n",
       "               2004                6.4          134673"
      ]
     },
     "execution_count": 18,
     "metadata": {},
     "output_type": "execute_result"
    }
   ],
   "source": [
    "merged_data.head()"
   ]
  },
  {
   "cell_type": "markdown",
   "metadata": {},
   "source": [
    "### Challenge\n",
    "\n",
    "* Merge the remaining labour force data together so that we end up with one data set `merged_data`\n",
    "* Save `merged_data` to a file `out_data/state_labour_statistics.csv`"
   ]
  },
  {
   "cell_type": "markdown",
   "metadata": {},
   "source": [
    "#### Solution"
   ]
  },
  {
   "cell_type": "code",
   "execution_count": 19,
   "metadata": {
    "collapsed": true
   },
   "outputs": [],
   "source": [
    "merged_data = merged_data.merge(qty_employment, \n",
    "                                 left_index  = True,\n",
    "                                 right_index = True,\n",
    "                                 how='inner')\n",
    "merged_data = merged_data.merge(labor_force, \n",
    "                                 left_index  = True,\n",
    "                                 right_index = True,\n",
    "                                 how='inner')"
   ]
  },
  {
   "cell_type": "code",
   "execution_count": 20,
   "metadata": {
    "collapsed": true
   },
   "outputs": [],
   "source": [
    "assert merged_data.shape[0]      == 52 * 17 * 12"
   ]
  },
  {
   "cell_type": "code",
   "execution_count": 21,
   "metadata": {
    "collapsed": false
   },
   "outputs": [],
   "source": [
    "merged_data.to_csv('out_data/state_labour_statistics.csv')"
   ]
  },
  {
   "cell_type": "code",
   "execution_count": null,
   "metadata": {
    "collapsed": true
   },
   "outputs": [],
   "source": []
  }
 ],
 "metadata": {
  "anaconda-cloud": {},
  "kernelspec": {
   "display_name": "Python 3",
   "language": "python",
   "name": "python3"
  },
  "language_info": {
   "codemirror_mode": {
    "name": "ipython",
    "version": 3
   },
   "file_extension": ".py",
   "mimetype": "text/x-python",
   "name": "python",
   "nbconvert_exporter": "python",
   "pygments_lexer": "ipython3",
   "version": "3.5.2"
  }
 },
 "nbformat": 4,
 "nbformat_minor": 0
}
