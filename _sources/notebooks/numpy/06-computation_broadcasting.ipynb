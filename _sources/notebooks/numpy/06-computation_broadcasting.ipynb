{
 "cells": [
  {
   "cell_type": "markdown",
   "metadata": {},
   "source": [
    "# More Computation on Arrays: Broadcasting\n",
    "\n",
    "So far we have seen how to use NumPy's ufuncs to operate on arrays that are of the same dimension. Another means of harnessing the vectorization thet ufuncs offer us is through *broadcasting*.\n",
    "\n",
    "Broadcasting is a set of rules that allow us to apply *binary* ufuncs, like addition, subtraction and multiplications, on arrays of different sizes. This is a powerful concept that can be incredibly useful if understood, or can lead to a total mess or copious error messages when applied without a concrete understanding of what is happening.\n",
    "\n",
    "Let's begin by importing NumPy:"
   ]
  },
  {
   "cell_type": "code",
   "execution_count": 1,
   "metadata": {
    "collapsed": true
   },
   "outputs": [],
   "source": [
    "import numpy as np\n",
    "np.random.seed(1234567890)"
   ]
  },
  {
   "cell_type": "markdown",
   "metadata": {},
   "source": [
    "## The Main Idea\n",
    "\n",
    "In a previous notebook we used ufuncs to perform operations on arrays of the same size. For example"
   ]
  },
  {
   "cell_type": "code",
   "execution_count": 2,
   "metadata": {
    "collapsed": false
   },
   "outputs": [
    {
     "data": {
      "text/plain": [
       "array([15, 14, 13])"
      ]
     },
     "execution_count": 2,
     "metadata": {},
     "output_type": "execute_result"
    }
   ],
   "source": [
    "x = np.array([10,9,8])\n",
    "y = np.array([5, 5, 5])\n",
    "x + y"
   ]
  },
  {
   "cell_type": "markdown",
   "metadata": {},
   "source": [
    "Broadcasting allows these operations to be done on different sized arrays. For example, we can think of the array `y` as a scalar valued 5 and add it to an array as follows:"
   ]
  },
  {
   "cell_type": "code",
   "execution_count": 3,
   "metadata": {
    "collapsed": false
   },
   "outputs": [
    {
     "data": {
      "text/plain": [
       "array([15, 14, 13])"
      ]
     },
     "execution_count": 3,
     "metadata": {},
     "output_type": "execute_result"
    }
   ],
   "source": [
    "x + 5"
   ]
  },
  {
   "cell_type": "markdown",
   "metadata": {},
   "source": [
    "Notice how we get the exact same result. Think od what we just did as an operation that stretches the scalar value `5` into an array `[5,5,5]` and then adds the result to `x`.\n",
    "\n",
    "*Note:* This description of stretching the array is not actually what NumPy does, think of it as a mental model to think about the concept of broadcasting.\n",
    "\n",
    "Broadcasting in this way also works on all higher dimensional arrays. For example we can add a one-dimensional array to a two-dimensional one:"
   ]
  },
  {
   "cell_type": "code",
   "execution_count": 4,
   "metadata": {
    "collapsed": false
   },
   "outputs": [
    {
     "data": {
      "text/plain": [
       "array([[ 1.,  1.,  1.],\n",
       "       [ 1.,  1.,  1.],\n",
       "       [ 1.,  1.,  1.]])"
      ]
     },
     "execution_count": 4,
     "metadata": {},
     "output_type": "execute_result"
    }
   ],
   "source": [
    "z = np.ones((3,3))\n",
    "z"
   ]
  },
  {
   "cell_type": "code",
   "execution_count": 5,
   "metadata": {
    "collapsed": false
   },
   "outputs": [
    {
     "data": {
      "text/plain": [
       "array([[ 11.,  10.,   9.],\n",
       "       [ 11.,  10.,   9.],\n",
       "       [ 11.,  10.,   9.]])"
      ]
     },
     "execution_count": 5,
     "metadata": {},
     "output_type": "execute_result"
    }
   ],
   "source": [
    "z + x"
   ]
  },
  {
   "cell_type": "markdown",
   "metadata": {},
   "source": [
    "In this context, broadcasting has 'stretched' the array `x` across the second dimension (the rows) to match the shape of `z`."
   ]
  },
  {
   "cell_type": "markdown",
   "metadata": {},
   "source": [
    "We can also broadcast across more than one array at a time:"
   ]
  },
  {
   "cell_type": "code",
   "execution_count": 7,
   "metadata": {
    "collapsed": false
   },
   "outputs": [
    {
     "name": "stdout",
     "output_type": "stream",
     "text": [
      "[0 1 2]\n",
      "[[0]\n",
      " [1]\n",
      " [2]]\n"
     ]
    }
   ],
   "source": [
    "a = np.arange(3)\n",
    "b = np.arange(3)[:, np.newaxis]\n",
    "\n",
    "print(a)\n",
    "print(b)"
   ]
  },
  {
   "cell_type": "code",
   "execution_count": 8,
   "metadata": {
    "collapsed": false
   },
   "outputs": [
    {
     "data": {
      "text/plain": [
       "array([[0, 1, 2],\n",
       "       [1, 2, 3],\n",
       "       [2, 3, 4]])"
      ]
     },
     "execution_count": 8,
     "metadata": {},
     "output_type": "execute_result"
    }
   ],
   "source": [
    "a + b"
   ]
  },
  {
   "cell_type": "markdown",
   "metadata": {},
   "source": [
    "Here, we stretched both arrays to match a common shape, resulting in a two dimensional array."
   ]
  },
  {
   "cell_type": "markdown",
   "metadata": {},
   "source": [
    "## Rules of Broadcasting\n",
    "\n",
    "Now we have seen Broadcasting in action, let's consider the rules that NumPy us using to determine how it operates on two arrays:\n",
    "\n",
    "* *Rule 1*: If the two arrays differ in their number of dimensions, the shape of the one with fewer dimensions is padded with ones on its leading (left) side.\n",
    "* *Rule 2*: If the shape of the two arrays does not match in any dimension, the array with shape equal to 1 in that dimension is stretched to match the other shape.\n",
    "* *Rule 3*: If in any dimension the sizes disagree and neither is equal to 1, an error is raised.\n",
    "\n",
    "Let's look at these rules in more detail by way of some examples:"
   ]
  },
  {
   "cell_type": "markdown",
   "metadata": {},
   "source": [
    "### Example 1"
   ]
  },
  {
   "cell_type": "code",
   "execution_count": 16,
   "metadata": {
    "collapsed": false
   },
   "outputs": [
    {
     "name": "stdout",
     "output_type": "stream",
     "text": [
      "[[ 1.  1.  1.]\n",
      " [ 1.  1.  1.]] [0 1 2]\n"
     ]
    }
   ],
   "source": [
    "matrix = np.ones((2, 3))\n",
    "array = np.arange(3)\n",
    "\n",
    "print(matrix, array)"
   ]
  },
  {
   "cell_type": "markdown",
   "metadata": {},
   "source": [
    "Consider an operation on `matrix` and `array`. The shape of each is:\n",
    "\n",
    "- ``matrix.shape = (2, 3)``\n",
    "- ``array.shape = (3,)``\n",
    "\n",
    "Rule 1 tells us that ``array`` has fewer dimensions, so we pad it on the left with ones:\n",
    "\n",
    "- ``matrix.shape -> (2, 3)``\n",
    "- ``array.shape -> (1, 3)``\n",
    "\n",
    "Rule 2, tells us the first dimension disagrees, so we stretch itnsion to match:\n",
    "\n",
    "- ``matrix.shape -> (2, 3)``\n",
    "- ``array.shape -> (2, 3)``\n",
    "\n",
    "Now the shapes match, and we see the output of a ufunc operation will be ``(2, 3)``:"
   ]
  },
  {
   "cell_type": "code",
   "execution_count": 17,
   "metadata": {
    "collapsed": false
   },
   "outputs": [
    {
     "data": {
      "text/plain": [
       "array([[ 1.,  2.,  3.],\n",
       "       [ 1.,  2.,  3.]])"
      ]
     },
     "execution_count": 17,
     "metadata": {},
     "output_type": "execute_result"
    }
   ],
   "source": [
    "matrix + array"
   ]
  },
  {
   "cell_type": "markdown",
   "metadata": {},
   "source": [
    "### Example 2\n",
    "\n",
    "Consider again the case where both arrays need to be broadcast:"
   ]
  },
  {
   "cell_type": "code",
   "execution_count": 18,
   "metadata": {
    "collapsed": true
   },
   "outputs": [],
   "source": [
    "array_1 = np.arange(3).reshape((3, 1))\n",
    "array_2 = np.arange(3)"
   ]
  },
  {
   "cell_type": "markdown",
   "metadata": {
    "collapsed": true
   },
   "source": [
    "Let's look at what broadcasting is doing:\n",
    "\n",
    "The shape of our arrays is:\n",
    "\n",
    "- ``array_1.shape = (3, 1)``\n",
    "- ``array_2.shape = (3,)``\n",
    "\n",
    "Rule 1 pads ``array_2`` with ones:\n",
    "\n",
    "- ``array_1.shape -> (3, 1)``\n",
    "- ``array_2.shape -> (1, 3)``\n",
    "\n",
    "Rule 2  upgrades dimension of size 1 to match the corresponding size of the other array:\n",
    "\n",
    "- ``array_1.shape -> (3, 3)``\n",
    "- ``array_2.shape -> (3, 3)``\n",
    "\n",
    "Now the shapes match, and an operation can be performed. The result is:"
   ]
  },
  {
   "cell_type": "code",
   "execution_count": 19,
   "metadata": {
    "collapsed": false
   },
   "outputs": [
    {
     "data": {
      "text/plain": [
       "array([[0, 1, 2],\n",
       "       [1, 2, 3],\n",
       "       [2, 3, 4]])"
      ]
     },
     "execution_count": 19,
     "metadata": {},
     "output_type": "execute_result"
    }
   ],
   "source": [
    "array_1 + array_2"
   ]
  },
  {
   "cell_type": "markdown",
   "metadata": {},
   "source": [
    "### Example 3\n",
    "\n",
    "Finally, here's an array where the shapes are not compatible:"
   ]
  },
  {
   "cell_type": "code",
   "execution_count": 20,
   "metadata": {
    "collapsed": true
   },
   "outputs": [],
   "source": [
    "matrix = np.ones((3, 2))\n",
    "array  = np.arange(3)"
   ]
  },
  {
   "cell_type": "markdown",
   "metadata": {
    "collapsed": true
   },
   "source": [
    "The shape of the arrays are\n",
    "\n",
    "- ``matrix.shape = (3, 2)``\n",
    "- ``array.shape = (3,)``\n",
    "\n",
    "Rule 1 pads the shape of ``array`` with ones:\n",
    "\n",
    "- ``matrix.shape -> (3, 2)``\n",
    "- ``array.shape -> (1, 3)``\n",
    "\n",
    "Rule 2 stretches the first dimension of ``array`` to match that of ``matrix``:\n",
    "\n",
    "- ``matrix.shape -> (3, 2)``\n",
    "- ``array.shape -> (3, 3)``\n",
    "\n",
    "From Rule 3, the shapes do not match, so a ufunc can not be performed between these two arrays:"
   ]
  },
  {
   "cell_type": "code",
   "execution_count": 21,
   "metadata": {
    "collapsed": false
   },
   "outputs": [
    {
     "ename": "ValueError",
     "evalue": "operands could not be broadcast together with shapes (3,2) (3,) ",
     "output_type": "error",
     "traceback": [
      "\u001b[1;31m---------------------------------------------------------------------------\u001b[0m",
      "\u001b[1;31mValueError\u001b[0m                                Traceback (most recent call last)",
      "\u001b[1;32m<ipython-input-21-9e16e9f98da6>\u001b[0m in \u001b[0;36m<module>\u001b[1;34m()\u001b[0m\n\u001b[1;32m----> 1\u001b[1;33m \u001b[0mM\u001b[0m \u001b[1;33m+\u001b[0m \u001b[0ma\u001b[0m\u001b[1;33m\u001b[0m\u001b[0m\n\u001b[0m",
      "\u001b[1;31mValueError\u001b[0m: operands could not be broadcast together with shapes (3,2) (3,) "
     ]
    }
   ],
   "source": [
    "matrix + array"
   ]
  },
  {
   "cell_type": "markdown",
   "metadata": {},
   "source": [
    "## Challenge\n",
    "\n",
    "1. In `Example 3` we saw that `matrix` and `array` where not compatible. What would happen if we padded `array`'s shape on the right rather than the left?\n",
    "    * Work throught the broadcasting logic, and if the result would be compatible compute `np.logaddexp(a, b)`. Note that this function computes `log(exp(a) + exp(b))`\n",
    "\n",
    "2. Take the array `data = np.arange(12).reshape(2,6)` and use the principles of broadcasting to demean the columns.\n",
    "\n",
    "3. Again take `data`, and this time demean along the column dimension\n",
    "\n",
    "4. Convert `data` to have zero mean and unit standard deviation along the column dimension"
   ]
  },
  {
   "cell_type": "markdown",
   "metadata": {},
   "source": [
    "### Solution"
   ]
  },
  {
   "cell_type": "code",
   "execution_count": 22,
   "metadata": {
    "collapsed": false
   },
   "outputs": [
    {
     "data": {
      "text/plain": [
       "(3, 1)"
      ]
     },
     "execution_count": 22,
     "metadata": {},
     "output_type": "execute_result"
    }
   ],
   "source": [
    "a[:, np.newaxis].shape\n"
   ]
  },
  {
   "cell_type": "code",
   "execution_count": 23,
   "metadata": {
    "collapsed": false
   },
   "outputs": [
    {
     "data": {
      "text/plain": [
       "array([[ 1.,  1.],\n",
       "       [ 2.,  2.],\n",
       "       [ 3.,  3.]])"
      ]
     },
     "execution_count": 23,
     "metadata": {},
     "output_type": "execute_result"
    }
   ],
   "source": [
    "M + a[:, np.newaxis]"
   ]
  },
  {
   "cell_type": "code",
   "execution_count": 24,
   "metadata": {
    "collapsed": false
   },
   "outputs": [
    {
     "data": {
      "text/plain": [
       "array([[ 1.31326169,  1.31326169],\n",
       "       [ 1.69314718,  1.69314718],\n",
       "       [ 2.31326169,  2.31326169]])"
      ]
     },
     "execution_count": 24,
     "metadata": {},
     "output_type": "execute_result"
    }
   ],
   "source": [
    "np.logaddexp(M, a[:, np.newaxis])"
   ]
  },
  {
   "cell_type": "code",
   "execution_count": null,
   "metadata": {
    "collapsed": true
   },
   "outputs": [],
   "source": [
    "# broadcasting\n",
    "xs = np.arange(12).reshape(2,6)\n",
    "print(xs, '\\n')\n",
    "print(xs * 10, '\\n')\n",
    "\n",
    "# broadcasting just works when doing column-wise operations\n",
    "col_means = xs.mean(axis=0)\n",
    "print(col_means, '\\n')\n",
    "print(xs + col_means, '\\n')\n",
    "\n",
    "# but needs a little more work for row-wise operations\n",
    "row_means = xs.mean(axis=1)[:, np.newaxis]\n",
    "print(row_means)\n",
    "print(xs + row_means)\n",
    "\n",
    "# convert matrix to have zero mean and unit standard deviation using col summary statistics\n",
    "print((xs - xs.mean(axis=0))/xs.std(axis=0))"
   ]
  },
  {
   "cell_type": "code",
   "execution_count": null,
   "metadata": {
    "collapsed": true
   },
   "outputs": [],
   "source": []
  }
 ],
 "metadata": {
  "anaconda-cloud": {},
  "kernelspec": {
   "display_name": "python3",
   "language": "python",
   "name": "python3"
  },
  "language_info": {
   "codemirror_mode": {
    "name": "ipython",
    "version": 3
   },
   "file_extension": ".py",
   "mimetype": "text/x-python",
   "name": "python",
   "nbconvert_exporter": "python",
   "pygments_lexer": "ipython3",
   "version": "3.5.2"
  }
 },
 "nbformat": 4,
 "nbformat_minor": 2
}
