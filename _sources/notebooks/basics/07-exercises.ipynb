{
 "cells": [
  {
   "cell_type": "markdown",
   "source": [
    "# Exercises"
   ],
   "metadata": {}
  },
  {
   "cell_type": "markdown",
   "source": [
    "## Chapter 1\n",
    "\n",
    "### Numbers"
   ],
   "metadata": {}
  },
  {
   "cell_type": "markdown",
   "source": [
    "#### Fahrenheit to Celsius"
   ],
   "metadata": {}
  },
  {
   "cell_type": "markdown",
   "source": [
    "1. Create a variable `fahrenheit` which stores the current temperature in Zurich in Fahrenheit (Google: \"zurich temperature fahrenheit\"). \n",
    "2. The formula to convert Fahrenheit to Celsius is: $C = (5/9)(F-32)$. Create a new variable `celsius` which converts Fahrenheit to Celsius using this formula. \n",
    "3. Print out the variable using the `print` function. "
   ],
   "metadata": {}
  },
  {
   "cell_type": "code",
   "execution_count": 1,
   "source": [
    "fahrenheit = 82 \n",
    "celsius = (5/9) * (fahrenheit - 32)\n",
    "print(\"The temperature in Celsius is:\", celsius)"
   ],
   "outputs": [
    {
     "output_type": "stream",
     "name": "stdout",
     "text": [
      "The temperature in Celsius is: 27.77777777777778\n"
     ]
    }
   ],
   "metadata": {}
  },
  {
   "cell_type": "markdown",
   "source": [
    "### Strings"
   ],
   "metadata": {}
  },
  {
   "cell_type": "markdown",
   "source": [
    "#### String theory"
   ],
   "metadata": {}
  },
  {
   "cell_type": "markdown",
   "source": [
    "Consider the (slightly altered) transcript of an xkcd comic:\n",
    "\n",
    "`String Theory summarized: I just had an awesome idea. Suppose all matter and energy is made of tiny, vibrating \"strings\". Okay ... what would that imply? I dunno.`"
   ],
   "metadata": {}
  },
  {
   "cell_type": "markdown",
   "source": [
    "1. Store this transcript as a string in the variable `xkcd`. Print it out using the `print` function. \n",
    "2. How long is the string in total? \n",
    "3. Extract the first character of the second word. \n",
    "4. Extract the first word, the second word and the last word separately using slicing and store them in the variables `xkcd_1`, `xkcd_2` and `xkcd_last`. Print out `xkcd_1` and `xkcd_2` together. \n",
    "5. How would the string read backwards?\n",
    "6. Count how often the word 'I' is used in this string. \n",
    "7. Split the string at every dot and store the resulting list in the variable `xkcd_list`. Print this list out. \n",
    "8. Join the strings in the list `xkcd_list` using the dot as a separator argument and assign them to a variable `xkcd_rejoined`. Print the variable out. \n",
    "9. Replace the word 'strings' with the word 'ducks' in `xkcd` and store the result in the variable `duck_theory`. Replace the word 'String' with the word 'Duck' in `duck_theory` and store the result again in the variable `duck_theory`. Print it out. "
   ],
   "metadata": {}
  },
  {
   "cell_type": "markdown",
   "source": [
    "#### 1) "
   ],
   "metadata": {}
  },
  {
   "cell_type": "code",
   "execution_count": 2,
   "source": [
    "xkcd = ('String Theory summarized: I just had an awesome idea. Suppose all matter and energy is made of tiny, '\n",
    "       'vibrating \"strings\". Okay ... what would that imply? I dunno.')"
   ],
   "outputs": [],
   "metadata": {
    "collapsed": true
   }
  },
  {
   "cell_type": "markdown",
   "source": [
    "#### 2)"
   ],
   "metadata": {}
  },
  {
   "cell_type": "code",
   "execution_count": 3,
   "source": [
    "len(xkcd)"
   ],
   "outputs": [
    {
     "output_type": "execute_result",
     "data": {
      "text/plain": [
       "162"
      ]
     },
     "metadata": {},
     "execution_count": 3
    }
   ],
   "metadata": {}
  },
  {
   "cell_type": "markdown",
   "source": [
    "#### 3)"
   ],
   "metadata": {}
  },
  {
   "cell_type": "code",
   "execution_count": 4,
   "source": [
    "xkcd[7]"
   ],
   "outputs": [
    {
     "output_type": "execute_result",
     "data": {
      "text/plain": [
       "'T'"
      ]
     },
     "metadata": {},
     "execution_count": 4
    }
   ],
   "metadata": {}
  },
  {
   "cell_type": "markdown",
   "source": [
    "#### 4)"
   ],
   "metadata": {}
  },
  {
   "cell_type": "code",
   "execution_count": 5,
   "source": [
    "xkcd_1 = xkcd[:6] \n",
    "print(xkcd_1)"
   ],
   "outputs": [
    {
     "output_type": "stream",
     "name": "stdout",
     "text": [
      "String\n"
     ]
    }
   ],
   "metadata": {}
  },
  {
   "cell_type": "code",
   "execution_count": 6,
   "source": [
    "xkcd_2 = xkcd[7:14]\n",
    "print(xkcd_2)"
   ],
   "outputs": [
    {
     "output_type": "stream",
     "name": "stdout",
     "text": [
      "Theory \n"
     ]
    }
   ],
   "metadata": {}
  },
  {
   "cell_type": "code",
   "execution_count": 7,
   "source": [
    "xkcd_last = xkcd[-6:-1]\n",
    "print(xkcd_last)"
   ],
   "outputs": [
    {
     "output_type": "stream",
     "name": "stdout",
     "text": [
      "dunno\n"
     ]
    }
   ],
   "metadata": {}
  },
  {
   "cell_type": "code",
   "execution_count": 8,
   "source": [
    "print(xkcd_1, xkcd_2) "
   ],
   "outputs": [
    {
     "output_type": "stream",
     "name": "stdout",
     "text": [
      "String Theory \n"
     ]
    }
   ],
   "metadata": {}
  },
  {
   "cell_type": "code",
   "execution_count": 9,
   "source": [
    "xkcd_combined = xkcd_1 + ' ' + xkcd_2 \n",
    "print(xkcd_combined)"
   ],
   "outputs": [
    {
     "output_type": "stream",
     "name": "stdout",
     "text": [
      "String Theory \n"
     ]
    }
   ],
   "metadata": {}
  },
  {
   "cell_type": "markdown",
   "source": [
    "#### 5)"
   ],
   "metadata": {}
  },
  {
   "cell_type": "code",
   "execution_count": 10,
   "source": [
    "print(xkcd[::-1])"
   ],
   "outputs": [
    {
     "output_type": "stream",
     "name": "stdout",
     "text": [
      ".onnud I ?ylpmi taht dluow tahw ... yakO .\"sgnirts\" gnitarbiv ,ynit fo edam si ygrene dna rettam lla esoppuS .aedi emosewa na dah tsuj I :dezirammus yroehT gnirtS\n"
     ]
    }
   ],
   "metadata": {}
  },
  {
   "cell_type": "markdown",
   "source": [
    "#### 6)"
   ],
   "metadata": {}
  },
  {
   "cell_type": "code",
   "execution_count": 11,
   "source": [
    "xkcd.count('I')"
   ],
   "outputs": [
    {
     "output_type": "execute_result",
     "data": {
      "text/plain": [
       "2"
      ]
     },
     "metadata": {},
     "execution_count": 11
    }
   ],
   "metadata": {}
  },
  {
   "cell_type": "markdown",
   "source": [
    "#### 7)"
   ],
   "metadata": {}
  },
  {
   "cell_type": "code",
   "execution_count": 12,
   "source": [
    "xkcd.split('.')"
   ],
   "outputs": [
    {
     "output_type": "execute_result",
     "data": {
      "text/plain": [
       "['String Theory summarized: I just had an awesome idea',\n",
       " ' Suppose all matter and energy is made of tiny, vibrating \"strings\"',\n",
       " ' Okay ',\n",
       " '',\n",
       " '',\n",
       " ' what would that imply? I dunno',\n",
       " '']"
      ]
     },
     "metadata": {},
     "execution_count": 12
    }
   ],
   "metadata": {}
  },
  {
   "cell_type": "code",
   "execution_count": 13,
   "source": [
    "xkcd_list = xkcd.split('.')\n",
    "xkcd_rejoined = '.'.join(xkcd_list)\n",
    "print(xkcd_rejoined)"
   ],
   "outputs": [
    {
     "output_type": "stream",
     "name": "stdout",
     "text": [
      "String Theory summarized: I just had an awesome idea. Suppose all matter and energy is made of tiny, vibrating \"strings\". Okay ... what would that imply? I dunno.\n"
     ]
    }
   ],
   "metadata": {}
  },
  {
   "cell_type": "markdown",
   "source": [
    "#### 9)"
   ],
   "metadata": {}
  },
  {
   "cell_type": "code",
   "execution_count": 14,
   "source": [
    "duck_theory = xkcd.replace('strings', 'ducks')\n",
    "duck_theory = duck_theory.replace('String', 'Duck')\n",
    "print(duck_theory)"
   ],
   "outputs": [
    {
     "output_type": "stream",
     "name": "stdout",
     "text": [
      "Duck Theory summarized: I just had an awesome idea. Suppose all matter and energy is made of tiny, vibrating \"ducks\". Okay ... what would that imply? I dunno.\n"
     ]
    }
   ],
   "metadata": {}
  },
  {
   "cell_type": "markdown",
   "source": [
    "## Chapter 2"
   ],
   "metadata": {}
  },
  {
   "cell_type": "markdown",
   "source": [
    "### Lists"
   ],
   "metadata": {}
  },
  {
   "cell_type": "markdown",
   "source": [
    "#### Operating Systems"
   ],
   "metadata": {}
  },
  {
   "cell_type": "markdown",
   "source": [
    "1. Create a list of the 'founding fathers' of today's existing operating systems / companies: Linus Torvalds, Bill Gates, and Steve Jobs. Call it `founders`. Print it out. \n",
    "2. You realize that Steve Jobs shouldn't be on that list. Instead you want Steve Wozniak on the list. Change the list by removing Steve Jobs and adding Steve Wozniak. Print it out. \n",
    "3. Sort the list alphabetically. \n",
    "4. Create another list, `os_list`, with the names of the operating systems: `OS X`, `Windows`, and `Linux`.\n",
    "5. Combine the two lists in a new list called `modern_pc`. \n",
    "6. How would you test whether `FreeBSD` is in `modern_pc`? "
   ],
   "metadata": {}
  },
  {
   "cell_type": "markdown",
   "source": [
    "#### 1)"
   ],
   "metadata": {}
  },
  {
   "cell_type": "code",
   "execution_count": 15,
   "source": [
    "founders = ['Linus Torvalds', 'Bill Gates', 'Steve Jobs']\n",
    "print(founders)"
   ],
   "outputs": [
    {
     "output_type": "stream",
     "name": "stdout",
     "text": [
      "['Linus Torvalds', 'Bill Gates', 'Steve Jobs']\n"
     ]
    }
   ],
   "metadata": {}
  },
  {
   "cell_type": "markdown",
   "source": [
    "#### 2)"
   ],
   "metadata": {}
  },
  {
   "cell_type": "code",
   "execution_count": 16,
   "source": [
    "founders[2] = 'Steve Wozniak'\n",
    "print(founders)"
   ],
   "outputs": [
    {
     "output_type": "stream",
     "name": "stdout",
     "text": [
      "['Linus Torvalds', 'Bill Gates', 'Steve Wozniak']\n"
     ]
    }
   ],
   "metadata": {}
  },
  {
   "cell_type": "markdown",
   "source": [
    "#### 3)"
   ],
   "metadata": {}
  },
  {
   "cell_type": "code",
   "execution_count": 17,
   "source": [
    "founders.sort()\n",
    "print(founders)"
   ],
   "outputs": [
    {
     "output_type": "stream",
     "name": "stdout",
     "text": [
      "['Bill Gates', 'Linus Torvalds', 'Steve Wozniak']\n"
     ]
    }
   ],
   "metadata": {}
  },
  {
   "cell_type": "code",
   "execution_count": 18,
   "source": [
    "help(list.sort)"
   ],
   "outputs": [
    {
     "output_type": "stream",
     "name": "stdout",
     "text": [
      "Help on method_descriptor:\n",
      "\n",
      "sort(...)\n",
      "    L.sort(key=None, reverse=False) -> None -- stable sort *IN PLACE*\n",
      "\n"
     ]
    }
   ],
   "metadata": {}
  },
  {
   "cell_type": "markdown",
   "source": [
    "#### 4)"
   ],
   "metadata": {}
  },
  {
   "cell_type": "code",
   "execution_count": 19,
   "source": [
    "os_list = ['OS X', 'Windows', 'Linux']"
   ],
   "outputs": [],
   "metadata": {
    "collapsed": true
   }
  },
  {
   "cell_type": "markdown",
   "source": [
    "#### 5)"
   ],
   "metadata": {}
  },
  {
   "cell_type": "code",
   "execution_count": 20,
   "source": [
    "modern_pc = founders + os_list"
   ],
   "outputs": [],
   "metadata": {
    "collapsed": true
   }
  },
  {
   "cell_type": "code",
   "execution_count": 21,
   "source": [
    "print(modern_pc)"
   ],
   "outputs": [
    {
     "output_type": "stream",
     "name": "stdout",
     "text": [
      "['Bill Gates', 'Linus Torvalds', 'Steve Wozniak', 'OS X', 'Windows', 'Linux']\n"
     ]
    }
   ],
   "metadata": {}
  },
  {
   "cell_type": "markdown",
   "source": [
    "#### 6)"
   ],
   "metadata": {}
  },
  {
   "cell_type": "code",
   "execution_count": 22,
   "source": [
    "'FreeBSD' in modern_pc"
   ],
   "outputs": [
    {
     "output_type": "execute_result",
     "data": {
      "text/plain": [
       "False"
      ]
     },
     "metadata": {},
     "execution_count": 22
    }
   ],
   "metadata": {}
  },
  {
   "cell_type": "markdown",
   "source": [
    "### Tuples"
   ],
   "metadata": {}
  },
  {
   "cell_type": "markdown",
   "source": [
    "#### Boring but necessary"
   ],
   "metadata": {}
  },
  {
   "cell_type": "markdown",
   "source": [
    "1. Create a tuple which contains the name of your favorite band. Call it `my_favorite_band`. Check whether it is a tuple.\n",
    "2. Create a tuple called `record` which contains your name, your address and your email contact as elements. Use tuple unpacking to assign the three elements in this tuple to the variables `name`, `address` and `email`.  "
   ],
   "metadata": {}
  },
  {
   "cell_type": "markdown",
   "source": [
    "#### 1)"
   ],
   "metadata": {}
  },
  {
   "cell_type": "code",
   "execution_count": 23,
   "source": [
    "# you need the trailing comma\n",
    "my_favorite_band = 'The National',"
   ],
   "outputs": [],
   "metadata": {
    "collapsed": true
   }
  },
  {
   "cell_type": "markdown",
   "source": [
    "#### 2)"
   ],
   "metadata": {}
  },
  {
   "cell_type": "code",
   "execution_count": 24,
   "source": [
    "record = ('Julian Langer', 'Langstrasse 81', 'julian.langer@econ.uzh.ch')"
   ],
   "outputs": [],
   "metadata": {
    "collapsed": true
   }
  },
  {
   "cell_type": "markdown",
   "source": [
    "#### 3)"
   ],
   "metadata": {}
  },
  {
   "cell_type": "code",
   "execution_count": 25,
   "source": [
    "# tuple unpacking\n",
    "name, address, email = record"
   ],
   "outputs": [],
   "metadata": {
    "collapsed": true
   }
  },
  {
   "cell_type": "code",
   "execution_count": 26,
   "source": [
    "print(name)"
   ],
   "outputs": [
    {
     "output_type": "stream",
     "name": "stdout",
     "text": [
      "Julian Langer\n"
     ]
    }
   ],
   "metadata": {}
  },
  {
   "cell_type": "markdown",
   "source": [
    "### Dictionaries"
   ],
   "metadata": {}
  },
  {
   "cell_type": "markdown",
   "source": [
    "#### Explain a Film Plot Badly"
   ],
   "metadata": {}
  },
  {
   "cell_type": "markdown",
   "source": [
    "The __descriptions__ are: \n",
    "+ `Teenager recruited to a terrorist organization destroys govt facility killing thousands.`\n",
    "+ `Professor has unusually productive sabbatical.`\n",
    "+ `Paranoid billionaire afraid of immigrant.`\n",
    "+ `Rare endangered aquatic creature murdered by small town blue collar sheriff.`\n",
    "\n",
    "The __movies__ are: \n",
    "+ `Batman v Superman`\n",
    "+ `Jaws`\n",
    "+ `Indiana Jones`\n",
    "+ `Star Wars`"
   ],
   "metadata": {}
  },
  {
   "cell_type": "markdown",
   "source": [
    "1. Order movies and descriptions correctly and put them in a dictionary called `movie_descriptions`, where movie titles are used as keys.\n",
    "2. Print out the description for `Jaws`. \n",
    "3. We think there is a better description for `Star Wars`. Change it to the following: `Deadbeat dad tries to get his son to take over the family business.`\n",
    "4. Print out all movie titles and descriptions separately. \n",
    "5. Store all items from `movie_descriptions` in a list called `bad_descriptions`. "
   ],
   "metadata": {}
  },
  {
   "cell_type": "markdown",
   "source": [
    "#### 1) "
   ],
   "metadata": {}
  },
  {
   "cell_type": "code",
   "execution_count": 3,
   "source": [
    "movie_descriptions = { 'Batman v Superman' : 'Paranoid billionaire afraid of immigrant.',\n",
    "                     'Jaws' : 'Rare endangered aquatic creature murdered by small town blue collar sheriff.',\n",
    "                     'Indiana Jones' : 'Professor has unusually productive sabbatical.',\n",
    "                     'Star Wars' : 'Teenager recruited to a terrorist organization destroys govt facility killing thousands.'}"
   ],
   "outputs": [],
   "metadata": {
    "collapsed": true
   }
  },
  {
   "cell_type": "markdown",
   "source": [
    "#### 2)"
   ],
   "metadata": {}
  },
  {
   "cell_type": "code",
   "execution_count": 4,
   "source": [
    "print(movie_descriptions['Jaws'])"
   ],
   "outputs": [
    {
     "output_type": "stream",
     "name": "stdout",
     "text": [
      "Rare endangered aquatic creature murdered by small town blue collar sheriff.\n"
     ]
    }
   ],
   "metadata": {}
  },
  {
   "cell_type": "markdown",
   "source": [
    "#### 3)"
   ],
   "metadata": {}
  },
  {
   "cell_type": "code",
   "execution_count": 6,
   "source": [
    "movie_descriptions['Star Wars'] = 'Deadbeat dad tries to get his son to take over the family business.'\n",
    "print(movie_descriptions)"
   ],
   "outputs": [
    {
     "output_type": "stream",
     "name": "stdout",
     "text": [
      "{'Batman v Superman': 'Paranoid billionaire afraid of immigrant.', 'Jaws': 'Rare endangered aquatic creature murdered by small town blue collar sheriff.', 'Indiana Jones': 'Professor has unusually productive sabbatical.', 'Star Wars': 'Deadbeat dad tries to get his son to take over the family business.'}\n"
     ]
    }
   ],
   "metadata": {}
  },
  {
   "cell_type": "markdown",
   "source": [
    "#### 4)"
   ],
   "metadata": {}
  },
  {
   "cell_type": "code",
   "execution_count": 7,
   "source": [
    "print(movie_descriptions.keys())"
   ],
   "outputs": [
    {
     "output_type": "stream",
     "name": "stdout",
     "text": [
      "dict_keys(['Batman v Superman', 'Jaws', 'Indiana Jones', 'Star Wars'])\n"
     ]
    }
   ],
   "metadata": {}
  },
  {
   "cell_type": "code",
   "execution_count": 8,
   "source": [
    "print(movie_descriptions.values())"
   ],
   "outputs": [
    {
     "output_type": "stream",
     "name": "stdout",
     "text": [
      "dict_values(['Paranoid billionaire afraid of immigrant.', 'Rare endangered aquatic creature murdered by small town blue collar sheriff.', 'Professor has unusually productive sabbatical.', 'Deadbeat dad tries to get his son to take over the family business.'])\n"
     ]
    }
   ],
   "metadata": {}
  },
  {
   "cell_type": "markdown",
   "source": [
    "#### 5)"
   ],
   "metadata": {}
  },
  {
   "cell_type": "code",
   "execution_count": 32,
   "source": [
    "bad_descriptions = list(movie_descriptions.items())"
   ],
   "outputs": [],
   "metadata": {
    "collapsed": true
   }
  },
  {
   "cell_type": "code",
   "execution_count": 33,
   "source": [
    "print(bad_descriptions)"
   ],
   "outputs": [
    {
     "output_type": "stream",
     "name": "stdout",
     "text": [
      "[('Batman v Superman', 'Paranoid billionaire afraid of immigrant.'), ('Jaws', 'Rare endangered aquatic creature murdered by small town blue collar sheriff.'), ('Star Wars', 'Deadbeat dad tries to get his son to take over the family business.'), ('Indiana Jones', 'Professor has unusually productive sabbatical.')]\n"
     ]
    }
   ],
   "metadata": {}
  },
  {
   "cell_type": "markdown",
   "source": [
    "As you can see, if you convert the items of the dictionary into a list, it becomes a list of 2-element tuples. Note that you need the `items` method here, otherwise the list would just contain the keys. "
   ],
   "metadata": {}
  },
  {
   "cell_type": "markdown",
   "source": [
    "## Chapter 3"
   ],
   "metadata": {}
  },
  {
   "cell_type": "markdown",
   "source": [
    "### Guess a number (from Lubovic)"
   ],
   "metadata": {}
  },
  {
   "cell_type": "markdown",
   "source": [
    "1. Create a variable `my_number` with your favorite number between 1 and 10. \n",
    "2. Create a second variable `guess` for which you can choose an arbitrary number between 1 and 10. \n",
    "2. Write an if-else structure which prints out `Too low.` if the guess is lower than your favorite number, `Too high` if the guess is higher than your favorite number and `Just right.` if it is exactly equal to your favorite number. "
   ],
   "metadata": {}
  },
  {
   "cell_type": "code",
   "execution_count": 1,
   "source": [
    "my_number = 7\n",
    "guess = 5\n",
    "\n",
    "if guess < my_number: \n",
    "    print('Too low.')\n",
    "elif guess > my_number: \n",
    "    print('Too high.')\n",
    "else: \n",
    "    print('Just right!')"
   ],
   "outputs": [
    {
     "output_type": "stream",
     "name": "stdout",
     "text": [
      "Too low.\n"
     ]
    }
   ],
   "metadata": {}
  },
  {
   "cell_type": "markdown",
   "source": [
    "### Guess a number 2.0 (from Lubovic) "
   ],
   "metadata": {}
  },
  {
   "cell_type": "markdown",
   "source": [
    "1. Create a variable `my_number` with your favorite number between 1 and 20.\n",
    "2. Write a while loop which prompts the reader to input a number between 1 and 20 and store it as `my_guess`. At each iteration the while loop should evaluate whether the guess is still `False`. Moreover, if the number is too low, Python should print this out and similarly for the case where the number is too high. When the correct number is entered, Python should print out `Found it!` and exit the loop."
   ],
   "metadata": {}
  },
  {
   "cell_type": "code",
   "execution_count": 3,
   "source": [
    "my_number = 17\n",
    "guess = False\n",
    "\n",
    "\n",
    "while guess == False:\n",
    "    my_guess = int(input('Please enter a number between 1 and 20:'))\n",
    "    \n",
    "    if my_guess < 1 or my_guess > 20:\n",
    "        print('Out of range.')\n",
    "        continue\n",
    "    \n",
    "    if my_guess > my_number: \n",
    "        print('Guess is too high!')\n",
    "    elif my_guess < my_number: \n",
    "        print('Guess is too low!')\n",
    "    else:\n",
    "        print('Found it!')\n",
    "        guess = True"
   ],
   "outputs": [
    {
     "output_type": "stream",
     "name": "stdout",
     "text": [
      "Please enter a number between 1 and 20:21\n",
      "Out of range.\n",
      "Please enter a number between 1 and 20:13\n",
      "Guess is too low!\n",
      "Please enter a number between 1 and 20:16\n",
      "Guess is too low!\n",
      "Please enter a number between 1 and 20:18\n",
      "Guess is too high!\n",
      "Please enter a number between 1 and 20:17\n",
      "Found it!\n"
     ]
    }
   ],
   "metadata": {}
  },
  {
   "cell_type": "markdown",
   "source": [
    "### `while` vs. `for` "
   ],
   "metadata": {}
  },
  {
   "cell_type": "markdown",
   "source": [
    "1. Write down your favorite line from a song and store it in a string called `my_line`. \n",
    "2. Split the string into single words and store the results in a list called `lyrics_list`. \n",
    "3. Write a while loop and a for loop which iterate through the list and reconstruct the original string. \n",
    "4. After the end of the loop, the line should be printed out again. "
   ],
   "metadata": {}
  },
  {
   "cell_type": "code",
   "execution_count": 2,
   "source": [
    "my_line = \"We don't need no education.\"\n",
    "lyrics_list = my_line.split(' ')\n",
    "print(lyrics_list)"
   ],
   "outputs": [
    {
     "output_type": "stream",
     "name": "stdout",
     "text": [
      "['We', \"don't\", 'need', 'no', 'education.']\n"
     ]
    }
   ],
   "metadata": {}
  },
  {
   "cell_type": "code",
   "execution_count": 5,
   "source": [
    "current = 0\n",
    "lyrics = ''\n",
    "while current < len(lyrics_list): \n",
    "    lyrics = lyrics + ' ' + lyrics_list[current]\n",
    "    current += 1\n",
    "    print(lyrics)"
   ],
   "outputs": [
    {
     "output_type": "stream",
     "name": "stdout",
     "text": [
      " We\n",
      " We don't\n",
      " We don't need\n",
      " We don't need no\n",
      " We don't need no education.\n"
     ]
    }
   ],
   "metadata": {}
  },
  {
   "cell_type": "code",
   "execution_count": 4,
   "source": [
    "lyrics = ''\n",
    "for word in lyrics_list:\n",
    "    lyrics = lyrics + ' ' + word\n",
    "    print(lyrics)"
   ],
   "outputs": [
    {
     "output_type": "stream",
     "name": "stdout",
     "text": [
      " We\n",
      " We don't\n",
      " We don't need\n",
      " We don't need no\n",
      " We don't need no education.\n"
     ]
    }
   ],
   "metadata": {}
  },
  {
   "cell_type": "markdown",
   "source": [
    "### `zip` and dictionaries (from Lubovic) "
   ],
   "metadata": {}
  },
  {
   "cell_type": "markdown",
   "source": [
    "1. Use `zip` to make a dictionary called `movies` that pairs these lists: `titles = ['Creature of Habit', 'Crewel Fate']` and `plots = ['A nun turns into a monster', 'A haunted yarn shop']`. "
   ],
   "metadata": {}
  },
  {
   "cell_type": "code",
   "execution_count": 8,
   "source": [
    "titles = ['Creature of Habit', 'Crewel Fate']\n",
    "plots = ['A nun turns into a monster', 'A haunted yarn shop']\n",
    "movies = {}\n",
    "\n",
    "for title, plot in zip(titles, plots): \n",
    "    movies[title] = plot\n",
    "\n",
    "print(movies)"
   ],
   "outputs": [
    {
     "output_type": "stream",
     "name": "stdout",
     "text": [
      "{'Creature of Habit': 'A nun turns into a monster', 'Crewel Fate': 'A haunted yarn shop'}\n"
     ]
    }
   ],
   "metadata": {}
  },
  {
   "cell_type": "markdown",
   "source": [
    "### Sequences "
   ],
   "metadata": {}
  },
  {
   "cell_type": "markdown",
   "source": [
    "1. Use a for-loop to print the values from +5 to -5. "
   ],
   "metadata": {}
  },
  {
   "cell_type": "code",
   "execution_count": 7,
   "source": [
    "for number in range(5, -6, -1):\n",
    "    print(number)"
   ],
   "outputs": [
    {
     "output_type": "stream",
     "name": "stdout",
     "text": [
      "5\n",
      "4\n",
      "3\n",
      "2\n",
      "1\n",
      "0\n",
      "-1\n",
      "-2\n",
      "-3\n",
      "-4\n",
      "-5\n"
     ]
    }
   ],
   "metadata": {}
  },
  {
   "cell_type": "markdown",
   "source": [
    "### Comprehensions"
   ],
   "metadata": {}
  },
  {
   "cell_type": "code",
   "execution_count": 6,
   "source": [
    "number_list = list(range(1, 21))\n",
    "my_list = [number**2 for number in number_list if number % 3 != 0]\n",
    "print(my_list)"
   ],
   "outputs": [
    {
     "output_type": "stream",
     "name": "stdout",
     "text": [
      "[1, 4, 16, 25, 49, 64, 100, 121, 169, 196, 256, 289, 361, 400]\n"
     ]
    }
   ],
   "metadata": {}
  },
  {
   "cell_type": "markdown",
   "source": [
    "## Chapter 4"
   ],
   "metadata": {}
  },
  {
   "cell_type": "markdown",
   "source": [
    "### Defining and running functions"
   ],
   "metadata": {}
  },
  {
   "cell_type": "markdown",
   "source": [
    "Assume the following constant elasticity of substitution (CES) utility function: $U(x, y) = \\frac{x^\\delta}{\\delta} + \\frac{y^\\delta}{\\delta}$ with $\\delta < 1$ and $\\delta \\neq 0$."
   ],
   "metadata": {}
  },
  {
   "cell_type": "markdown",
   "source": [
    "1. Define the function `ces_utility` and call it with $x = 1, y = 2, \\delta = -1$.\n",
    "2. Call the function using positional and keyword arguments. \n",
    "3. Define a default parameter for $\\delta = 0.5$ and call the function with it. \n",
    "4. Document the function. What does it do? What are its inputs and outputs. "
   ],
   "metadata": {}
  },
  {
   "cell_type": "code",
   "execution_count": 11,
   "source": [
    "def ces_utility(x, y, delta): \n",
    "    u = (x**delta)/delta + (y**delta)/delta\n",
    "    return u\n",
    "ces_utility(1, 2, -1) "
   ],
   "outputs": [
    {
     "output_type": "execute_result",
     "data": {
      "text/plain": [
       "-1.5"
      ]
     },
     "metadata": {},
     "execution_count": 11
    }
   ],
   "metadata": {}
  },
  {
   "cell_type": "code",
   "execution_count": 13,
   "source": [
    "print(ces_utility(1, 2, -1))\n",
    "print(ces_utility(y = 2, x = 1, delta = -1))"
   ],
   "outputs": [
    {
     "output_type": "stream",
     "name": "stdout",
     "text": [
      "-1.5\n",
      "-1.5\n"
     ]
    }
   ],
   "metadata": {}
  },
  {
   "cell_type": "code",
   "execution_count": 14,
   "source": [
    "def ces_utility(x, y, delta = 0.5): \n",
    "    u = (x**delta)/delta + (y**delta)/delta\n",
    "    return u\n",
    "ces_utility(x = 1, y = 2)"
   ],
   "outputs": [
    {
     "output_type": "execute_result",
     "data": {
      "text/plain": [
       "4.82842712474619"
      ]
     },
     "metadata": {},
     "execution_count": 14
    }
   ],
   "metadata": {}
  },
  {
   "cell_type": "code",
   "execution_count": 15,
   "source": [
    "def ces_utility(x, y, delta = 0.5): \n",
    "    '''Calculates the CES utility. \n",
    "    Inputs: \n",
    "    * x: good 1 (numeric) \n",
    "    * y: good 2 (numeric) \n",
    "    * delta: governs elasticity of substitution (numeric)\n",
    "    \n",
    "    Output: utility (numeric) '''\n",
    "    u = (x**delta)/delta + (y**delta)/delta\n",
    "    return u"
   ],
   "outputs": [],
   "metadata": {
    "collapsed": true
   }
  },
  {
   "cell_type": "markdown",
   "source": [
    "### Functions as objects"
   ],
   "metadata": {}
  },
  {
   "cell_type": "markdown",
   "source": [
    "1. Write a function `nl_apply` which takes a list of numbers and function as arguments, and applies the function to each element of the list. \n",
    "2. Write a function `plus_one`, which takes a number as an input and increases it by 1. \n",
    "3. Call the function `nl_apply` with a list of numbers from 1 to 10 and the function `plus_one` as arguments. Store the result in the variable `result` and print it out. "
   ],
   "metadata": {}
  },
  {
   "cell_type": "code",
   "execution_count": 18,
   "source": [
    "def nl_apply(list_of_numbers, func): \n",
    "    result = []\n",
    "    for number in list_of_numbers:\n",
    "        result.append(func(number))\n",
    "    return result\n",
    "\n",
    "def plus_one(number): \n",
    "    return number + 1\n",
    "\n",
    "nl_apply(range(1, 11), plus_one)"
   ],
   "outputs": [
    {
     "output_type": "execute_result",
     "data": {
      "text/plain": [
       "[2, 3, 4, 5, 6, 7, 8, 9, 10, 11]"
      ]
     },
     "metadata": {},
     "execution_count": 18
    }
   ],
   "metadata": {}
  },
  {
   "cell_type": "markdown",
   "source": [
    "### Error handling with `try` and `except`"
   ],
   "metadata": {}
  },
  {
   "cell_type": "markdown",
   "source": [
    "1. Write a function `add_stuff` which adds two numbers given to it as arguments. \n",
    "2. Call it without arguments. Observe what happens. \n",
    "3. Use a try-except structure to explain the error. Call the function without arguments again. "
   ],
   "metadata": {}
  },
  {
   "cell_type": "code",
   "execution_count": 20,
   "source": [
    "def add_stuff(x, y): \n",
    "    return x + y\n",
    "\n",
    "try:\n",
    "    add_stuff()\n",
    "    \n",
    "except TypeError:\n",
    "    print('You forgot to pass two numbers to the function!')"
   ],
   "outputs": [
    {
     "output_type": "stream",
     "name": "stdout",
     "text": [
      "You forgot to pass two numbers to the function!\n"
     ]
    }
   ],
   "metadata": {}
  },
  {
   "cell_type": "markdown",
   "source": [
    "### Modules"
   ],
   "metadata": {}
  },
  {
   "cell_type": "markdown",
   "source": [
    "1. Create a file called `hitchhiker.py` in your current working directory. \n",
    "2. Open it and define a function called `meaning_of_life`. The function should print out: `The meaning of life is 42!`\n",
    "3. Open a new notebook or script. Import the module `hitchhiker` and run the function.\n",
    "4. Import the module as `adams` and call the function. \n",
    "5. Import just the function `meaning_of_life` and call it. \n",
    "6. Import the function as `deep_thought` and call it. "
   ],
   "metadata": {}
  },
  {
   "cell_type": "markdown",
   "source": [
    "No solution provided here. "
   ],
   "metadata": {}
  }
 ],
 "metadata": {
  "kernelspec": {
   "display_name": "Python 3",
   "language": "python",
   "name": "python3"
  },
  "language_info": {
   "codemirror_mode": {
    "name": "ipython",
    "version": 3
   },
   "file_extension": ".py",
   "mimetype": "text/x-python",
   "name": "python",
   "nbconvert_exporter": "python",
   "pygments_lexer": "ipython3",
   "version": "3.6.1"
  }
 },
 "nbformat": 4,
 "nbformat_minor": 1
}