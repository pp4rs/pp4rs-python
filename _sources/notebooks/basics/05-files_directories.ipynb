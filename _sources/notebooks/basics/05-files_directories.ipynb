{
 "cells": [
  {
   "cell_type": "markdown",
   "metadata": {
    "collapsed": true
   },
   "source": [
    "# Files and Directories"
   ]
  },
  {
   "cell_type": "markdown",
   "metadata": {},
   "source": [
    "## 1 Writing files with `write` and `print`"
   ]
  },
  {
   "cell_type": "markdown",
   "metadata": {
    "collapsed": true
   },
   "source": [
    "So far, we have not talked about how to import and export data into Python. It will be the focus of this section. Before we start, we have to create some data that we can write to a file. So let's write down a poem (all credits go to xkcd here). "
   ]
  },
  {
   "cell_type": "code",
   "execution_count": 3,
   "metadata": {
    "collapsed": true
   },
   "outputs": [],
   "source": [
    "poem = '''Never have I felt so close to another soul\n",
    "          And yet so helplessly alone\n",
    "          As when I google an error\n",
    "          And there's one result\n",
    "          A thread by someone with the same problem\n",
    "          And no answer\n",
    "          Last posted to in 2003\n",
    "          Who were you, DenverCoder9?\n",
    "          What did you see?!'''"
   ]
  },
  {
   "cell_type": "markdown",
   "metadata": {},
   "source": [
    "Before we can write into a file, we have to open it and create a fileobject: `fileobj = open(filename, mode)`. The only thing mysterious with this command might be the `mode` argument. You have to pass a two-character string here. \n",
    "\n",
    "The first character denotes what ou want to do with the file and must be one of the following:\n",
    "+ `r`: read the file,\n",
    "+ `w`: write into the file, if it does not exist it is created,\n",
    "+ `x`: write into the file, if it does not exist yet,\n",
    "+ `a`: append the file.\n",
    "\n",
    "The second character determines the file's type: \n",
    "+ `t`: text, or\n",
    "+ `b`: binary."
   ]
  },
  {
   "cell_type": "markdown",
   "metadata": {},
   "source": [
    "### 1.1 Writing strings with `write` and `print`"
   ]
  },
  {
   "cell_type": "markdown",
   "metadata": {},
   "source": [
    "In the following, I will concetrate on writing text since that will be the more common case for us lowly economists. So, let's open up our text file!"
   ]
  },
  {
   "cell_type": "code",
   "execution_count": 4,
   "metadata": {
    "collapsed": true
   },
   "outputs": [],
   "source": [
    "my_file = open('xkcd_poem', 'wt')"
   ]
  },
  {
   "cell_type": "markdown",
   "metadata": {},
   "source": [
    "The next step is to actually write something into the text file with the `write` method."
   ]
  },
  {
   "cell_type": "code",
   "execution_count": 5,
   "metadata": {},
   "outputs": [
    {
     "data": {
      "text/plain": [
       "325"
      ]
     },
     "execution_count": 5,
     "metadata": {},
     "output_type": "execute_result"
    }
   ],
   "source": [
    "my_file.write(poem)"
   ]
  },
  {
   "cell_type": "markdown",
   "metadata": {},
   "source": [
    "What kind of output is that? Is the length of our poem string. "
   ]
  },
  {
   "cell_type": "code",
   "execution_count": 4,
   "metadata": {},
   "outputs": [
    {
     "data": {
      "text/plain": [
       "325"
      ]
     },
     "execution_count": 4,
     "metadata": {},
     "output_type": "execute_result"
    }
   ],
   "source": [
    "len(poem)"
   ]
  },
  {
   "cell_type": "markdown",
   "metadata": {},
   "source": [
    "Now that we have opened and written into this file, we finally have to close it. "
   ]
  },
  {
   "cell_type": "code",
   "execution_count": 6,
   "metadata": {
    "collapsed": true
   },
   "outputs": [],
   "source": [
    "my_file.close()"
   ]
  },
  {
   "cell_type": "markdown",
   "metadata": {},
   "source": [
    "There should be now a new file in your working directory. Instead of using the `write` method you can also use the good old `print` function. The difference is that print adds a space after each argument and a new line in the end. To make the commands exactly do the same, you can change the default values of the `sep` and `end` arguments.  "
   ]
  },
  {
   "cell_type": "code",
   "execution_count": 7,
   "metadata": {},
   "outputs": [],
   "source": [
    "my_file = open('xkcd_poem2', 'wt')\n",
    "print(poem, file = my_file, sep = '', end = '')\n",
    "my_file.close()"
   ]
  },
  {
   "cell_type": "markdown",
   "metadata": {},
   "source": [
    "### 1.2 Using `with` to close files automatically"
   ]
  },
  {
   "cell_type": "markdown",
   "metadata": {},
   "source": [
    "It's annoying that you have to close each file with an explicit statement. Why not close it automatically after having done whatwever it is you wanted to do with it. You can do this with the `with` context manager. "
   ]
  },
  {
   "cell_type": "code",
   "execution_count": 9,
   "metadata": {
    "collapsed": true
   },
   "outputs": [],
   "source": [
    "with open('xkcd_poem3', 'wt') as my_file:\n",
    "    my_file.write(poem)"
   ]
  },
  {
   "cell_type": "markdown",
   "metadata": {},
   "source": [
    "This codeblock does the same as the two above but it automatically closes `my_file` at the end of the tabulated code block, which only consists of the line `my_file.write(poem)` in our example. "
   ]
  },
  {
   "cell_type": "markdown",
   "metadata": {},
   "source": [
    "### 1.3 Reading strings with `read`, `readline` and `readlines`"
   ]
  },
  {
   "cell_type": "markdown",
   "metadata": {},
   "source": [
    "We not only want to save string but also read them back into Python again. The simplest way to do this is with the `read` method."
   ]
  },
  {
   "cell_type": "code",
   "execution_count": 11,
   "metadata": {},
   "outputs": [
    {
     "name": "stdout",
     "output_type": "stream",
     "text": [
      "Never have I felt so close to another soul\n",
      "          And yet so helplessly alone\n",
      "          As when I google an error\n",
      "          And there's one result\n",
      "          A thread by someone with the same problem\n",
      "          And no answer\n",
      "          Last posted to in 2003\n",
      "          Who were you, DenverCoder9?\n",
      "          What did you see?!\n"
     ]
    }
   ],
   "source": [
    "with open('xkcd_poem', 'rt') as my_file: \n",
    "    poem = my_file.read()\n",
    "print(poem)"
   ]
  },
  {
   "cell_type": "markdown",
   "metadata": {},
   "source": [
    "Alternatively, we can also use the `readline` method, which reads one line at a time from our file. "
   ]
  },
  {
   "cell_type": "code",
   "execution_count": 13,
   "metadata": {},
   "outputs": [
    {
     "name": "stdout",
     "output_type": "stream",
     "text": [
      "Never have I felt so close to another soul\n",
      "\n",
      "          And yet so helplessly alone\n",
      "\n"
     ]
    }
   ],
   "source": [
    "with open('xkcd_poem', 'rt') as my_file: \n",
    "    print(my_file.readline())\n",
    "    print(my_file.readline())"
   ]
  },
  {
   "cell_type": "markdown",
   "metadata": {},
   "source": [
    "How can we use this to build a loop which reads out the whole poem in the end?"
   ]
  },
  {
   "cell_type": "code",
   "execution_count": 14,
   "metadata": {},
   "outputs": [
    {
     "name": "stdout",
     "output_type": "stream",
     "text": [
      "Never have I felt so close to another soul\n",
      "          And yet so helplessly alone\n",
      "          As when I google an error\n",
      "          And there's one result\n",
      "          A thread by someone with the same problem\n",
      "          And no answer\n",
      "          Last posted to in 2003\n",
      "          Who were you, DenverCoder9?\n",
      "          What did you see?!\n"
     ]
    }
   ],
   "source": [
    "poem = ''\n",
    "with open('xkcd_poem', 'rt') as my_file: \n",
    "    while True:\n",
    "        line = my_file.readline()\n",
    "        if not line: \n",
    "            break\n",
    "        poem += line\n",
    "print(poem)"
   ]
  },
  {
   "cell_type": "markdown",
   "metadata": {},
   "source": [
    "So, why does this work? We created an infinite loop which only breaks if `not line` is evaluated to `True`. Otherwise, the string poem is appended by the line. If there is no more line in our textfile, `readline` returns `''` which is evaluated to `False` which then leads to the break. It might look complicated at first but you will get the hang of it soon. "
   ]
  },
  {
   "cell_type": "markdown",
   "metadata": {},
   "source": [
    "Finally, there is a third way of reading poems, using the `readlines` method. This method read the textfile line by line and stores each one as a list element. "
   ]
  },
  {
   "cell_type": "code",
   "execution_count": 15,
   "metadata": {},
   "outputs": [
    {
     "data": {
      "text/plain": [
       "['Never have I felt so close to another soul\\n',\n",
       " '          And yet so helplessly alone\\n',\n",
       " '          As when I google an error\\n',\n",
       " \"          And there's one result\\n\",\n",
       " '          A thread by someone with the same problem\\n',\n",
       " '          And no answer\\n',\n",
       " '          Last posted to in 2003\\n',\n",
       " '          Who were you, DenverCoder9?\\n',\n",
       " '          What did you see?!']"
      ]
     },
     "execution_count": 15,
     "metadata": {},
     "output_type": "execute_result"
    }
   ],
   "source": [
    "with open('xkcd_poem', 'rt') as my_file: \n",
    "    lines = my_file.readlines()\n",
    "lines"
   ]
  },
  {
   "cell_type": "markdown",
   "metadata": {},
   "source": [
    "We can of course also build up our poem again. "
   ]
  },
  {
   "cell_type": "code",
   "execution_count": 18,
   "metadata": {},
   "outputs": [
    {
     "name": "stdout",
     "output_type": "stream",
     "text": [
      "Never have I felt so close to another soul\n",
      "          And yet so helplessly alone\n",
      "          As when I google an error\n",
      "          And there's one result\n",
      "          A thread by someone with the same problem\n",
      "          And no answer\n",
      "          Last posted to in 2003\n",
      "          Who were you, DenverCoder9?\n",
      "          What did you see?!\n"
     ]
    }
   ],
   "source": [
    "poem = ''\n",
    "for line in lines:\n",
    "    poem += line\n",
    "print(poem)"
   ]
  },
  {
   "cell_type": "markdown",
   "metadata": {},
   "source": [
    "or"
   ]
  },
  {
   "cell_type": "code",
   "execution_count": 20,
   "metadata": {},
   "outputs": [
    {
     "name": "stdout",
     "output_type": "stream",
     "text": [
      "Never have I felt so close to another soul\n",
      "          And yet so helplessly alone\n",
      "          As when I google an error\n",
      "          And there's one result\n",
      "          A thread by someone with the same problem\n",
      "          And no answer\n",
      "          Last posted to in 2003\n",
      "          Who were you, DenverCoder9?\n",
      "          What did you see?!\n"
     ]
    }
   ],
   "source": [
    "print(''.join(lines))"
   ]
  },
  {
   "cell_type": "markdown",
   "metadata": {},
   "source": [
    "We have learned quite a bit about textfiles now. Usually, we will want to store our data in csv files though as it allows us more structure. This will be the topic of the next two sections. "
   ]
  },
  {
   "cell_type": "markdown",
   "metadata": {},
   "source": [
    "### 1.4 Reading and writing `csv` files for lists of lists"
   ]
  },
  {
   "cell_type": "markdown",
   "metadata": {},
   "source": [
    "To read and write `csv` files, we will first need to import the necessary module. "
   ]
  },
  {
   "cell_type": "code",
   "execution_count": 21,
   "metadata": {
    "collapsed": true
   },
   "outputs": [],
   "source": [
    "import csv"
   ]
  },
  {
   "cell_type": "markdown",
   "metadata": {},
   "source": [
    "Suppose we have a list of lists. "
   ]
  },
  {
   "cell_type": "code",
   "execution_count": 30,
   "metadata": {},
   "outputs": [],
   "source": [
    "my_economists = [\n",
    "    ['Alfred', 'Marshall'],\n",
    "    ['John', 'Keynes'],\n",
    "    ['Paul', 'Krugman']\n",
    "]"
   ]
  },
  {
   "cell_type": "markdown",
   "metadata": {},
   "source": [
    "To write this structure into a `csv` file, we will have to do three things: \n",
    "+ open a file,\n",
    "+ make clear that we want to use the `csv` writer,\n",
    "+ use a function to actually write the data.\n",
    "Let's do this."
   ]
  },
  {
   "cell_type": "code",
   "execution_count": 31,
   "metadata": {
    "collapsed": true
   },
   "outputs": [],
   "source": [
    "with open('my_economists.csv', 'wt') as my_file: \n",
    "    csvout = csv.writer(my_file)\n",
    "    csvout.writerows(my_economists)"
   ]
  },
  {
   "cell_type": "markdown",
   "metadata": {},
   "source": [
    "To read it out again, we will have to use the `reader` function. "
   ]
  },
  {
   "cell_type": "code",
   "execution_count": 32,
   "metadata": {},
   "outputs": [
    {
     "data": {
      "text/plain": [
       "<_csv.reader at 0x10417a898>"
      ]
     },
     "execution_count": 32,
     "metadata": {},
     "output_type": "execute_result"
    }
   ],
   "source": [
    "with open('my_economists.csv', 'rt') as my_file: \n",
    "    csvin = csv.reader(my_file)\n",
    "csvin"
   ]
  },
  {
   "cell_type": "markdown",
   "metadata": {},
   "source": [
    "As you can see, the function `csvin` returns an object which we have to unpack. "
   ]
  },
  {
   "cell_type": "code",
   "execution_count": 34,
   "metadata": {},
   "outputs": [
    {
     "data": {
      "text/plain": [
       "[['Alfred', 'Marshall'], ['John', 'Keynes'], ['Paul', 'Krugman']]"
      ]
     },
     "execution_count": 34,
     "metadata": {},
     "output_type": "execute_result"
    }
   ],
   "source": [
    "my_economists = []\n",
    "with open('my_economists.csv', 'rt') as my_file: \n",
    "    csvin = csv.reader(my_file)\n",
    "    for row in csvin:\n",
    "        my_economists.append(row)\n",
    "my_economists"
   ]
  },
  {
   "cell_type": "markdown",
   "metadata": {},
   "source": [
    "or if we want to use a more elegant way, we can use a list comprehension. "
   ]
  },
  {
   "cell_type": "code",
   "execution_count": 36,
   "metadata": {},
   "outputs": [
    {
     "data": {
      "text/plain": [
       "[['Alfred', 'Marshall'], ['John', 'Keynes'], ['Paul', 'Krugman']]"
      ]
     },
     "execution_count": 36,
     "metadata": {},
     "output_type": "execute_result"
    }
   ],
   "source": [
    "my_economists = []\n",
    "with open('my_economists.csv', 'rt') as my_file: \n",
    "    csvin = csv.reader(my_file)\n",
    "    my_economists = [row for row in csvin]\n",
    "my_economists"
   ]
  },
  {
   "cell_type": "markdown",
   "metadata": {},
   "source": [
    "### 1.5 Reading and writing `csv` files for lists of dictionaries."
   ]
  },
  {
   "cell_type": "markdown",
   "metadata": {},
   "source": [
    "Now suppose we have a list of dictionaries. "
   ]
  },
  {
   "cell_type": "code",
   "execution_count": 37,
   "metadata": {
    "collapsed": true
   },
   "outputs": [],
   "source": [
    "my_economists = [\n",
    "    {'first' : 'Alfred', 'last' : 'Marshall'},\n",
    "    {'first' : 'John', 'last' : 'Keynes'},\n",
    "    {'first' : 'Paul', 'last' : 'Krugman'},\n",
    "]"
   ]
  },
  {
   "cell_type": "markdown",
   "metadata": {},
   "source": [
    "Let's first save this file. Here, we need the `DictWriter` function. We pass not only the file object `my_file` to this function but also a header line. "
   ]
  },
  {
   "cell_type": "code",
   "execution_count": 39,
   "metadata": {
    "collapsed": true
   },
   "outputs": [],
   "source": [
    "with open('my_economists.csv', 'wt') as my_file: \n",
    "    csvout = csv.DictWriter(my_file, ['first', 'last'])\n",
    "    csvout.writeheader()\n",
    "    csvout.writerows(my_economists)    "
   ]
  },
  {
   "cell_type": "markdown",
   "metadata": {},
   "source": [
    "Reading them in again is very similar to lists of lists, but we need the `DictReader` function. "
   ]
  },
  {
   "cell_type": "code",
   "execution_count": 41,
   "metadata": {},
   "outputs": [
    {
     "data": {
      "text/plain": [
       "[{'first': 'Alfred', 'last': 'Marshall'},\n",
       " {'first': 'John', 'last': 'Keynes'},\n",
       " {'first': 'Paul', 'last': 'Krugman'}]"
      ]
     },
     "execution_count": 41,
     "metadata": {},
     "output_type": "execute_result"
    }
   ],
   "source": [
    "with open('my_economists.csv', 'rt') as my_file: \n",
    "    csvin = csv.DictReader(my_file)\n",
    "    my_economists = [row for row in csvin]\n",
    "my_economists"
   ]
  },
  {
   "cell_type": "markdown",
   "metadata": {},
   "source": [
    "Note that if we had not written a header line, it would have been necessary to pass `['first', 'last']` as a second argument to the `DictReader` function. "
   ]
  },
  {
   "cell_type": "markdown",
   "metadata": {},
   "source": [
    "## 2 Navigating the digital seas: files and directories"
   ]
  },
  {
   "cell_type": "markdown",
   "metadata": {},
   "source": [
    "We might not only want to create files but also navigate through and create new directories and files and check for their existence. This is the purpose of this subsection. Before we can begin, we need to import a module, `os`."
   ]
  },
  {
   "cell_type": "code",
   "execution_count": 7,
   "metadata": {
    "collapsed": true
   },
   "outputs": [],
   "source": [
    "import os"
   ]
  },
  {
   "cell_type": "markdown",
   "metadata": {},
   "source": [
    "We also need to know the current working directory. What is the working directory you ask? It is the directory from which we started our iphython notebook. We can also find the working directory using Python."
   ]
  },
  {
   "cell_type": "code",
   "execution_count": 8,
   "metadata": {},
   "outputs": [
    {
     "data": {
      "text/plain": [
       "'/Users/jlanger/Dropbox/uzh_programming/python'"
      ]
     },
     "execution_count": 8,
     "metadata": {},
     "output_type": "execute_result"
    }
   ],
   "source": [
    "os.getcwd()"
   ]
  },
  {
   "cell_type": "markdown",
   "metadata": {},
   "source": [
    "### 2.1 Creating files and directories"
   ]
  },
  {
   "cell_type": "markdown",
   "metadata": {},
   "source": [
    "We aready know how to create files, so we only look how at directories here. Specifically, we will create the subdirectory with the ingenious name `my_directory` in our working directory using the `mkdir` function. "
   ]
  },
  {
   "cell_type": "code",
   "execution_count": 9,
   "metadata": {},
   "outputs": [],
   "source": [
    "os.mkdir('my_directory')"
   ]
  },
  {
   "cell_type": "markdown",
   "metadata": {},
   "source": [
    "We should now check whether we were successful by looking into our working directory. We can of course do this with Python. "
   ]
  },
  {
   "cell_type": "code",
   "execution_count": 10,
   "metadata": {},
   "outputs": [
    {
     "data": {
      "text/plain": [
       "['.DS_Store',\n",
       " '.ipynb_checkpoints',\n",
       " 'Code Structures I.ipynb',\n",
       " 'Code Structures II.ipynb',\n",
       " 'han_shot_first',\n",
       " 'Input-Output.ipynb',\n",
       " 'my_directory',\n",
       " 'normal ml.ipynb',\n",
       " 'Numpy.ipynb',\n",
       " 'Pandas-Matplotlib.ipynb',\n",
       " 'Python Ingredients I.ipynb',\n",
       " 'Python Ingredients II.ipynb',\n",
       " 'Regular Expressions.ipynb',\n",
       " 'SciPy.ipynb',\n",
       " 'xkcd_poem',\n",
       " 'xkcd_poem2']"
      ]
     },
     "execution_count": 10,
     "metadata": {},
     "output_type": "execute_result"
    }
   ],
   "source": [
    "os.listdir()"
   ]
  },
  {
   "cell_type": "markdown",
   "metadata": {},
   "source": [
    "There it is in all its glory!"
   ]
  },
  {
   "cell_type": "markdown",
   "metadata": {},
   "source": [
    "### 2.2 Checking for existence of files and directories with `exists`"
   ]
  },
  {
   "cell_type": "markdown",
   "metadata": {},
   "source": [
    "Remember the text file with the poem we created above? Let's be a little paranoid and check whether it is still there using Python. "
   ]
  },
  {
   "cell_type": "code",
   "execution_count": 11,
   "metadata": {},
   "outputs": [
    {
     "data": {
      "text/plain": [
       "True"
      ]
     },
     "execution_count": 11,
     "metadata": {},
     "output_type": "execute_result"
    }
   ],
   "source": [
    "os.path.exists('xkcd_poem')"
   ]
  },
  {
   "cell_type": "code",
   "execution_count": 12,
   "metadata": {},
   "outputs": [
    {
     "data": {
      "text/plain": [
       "False"
      ]
     },
     "execution_count": 12,
     "metadata": {},
     "output_type": "execute_result"
    }
   ],
   "source": [
    "os.path.exists('pooh')"
   ]
  },
  {
   "cell_type": "markdown",
   "metadata": {},
   "source": [
    "### 2.3 Check for type with `isfile` and `isdir` "
   ]
  },
  {
   "cell_type": "markdown",
   "metadata": {},
   "source": [
    "We can also check whether something is a file or a directory using the `isfile` and `isdir` functions"
   ]
  },
  {
   "cell_type": "code",
   "execution_count": 13,
   "metadata": {},
   "outputs": [
    {
     "data": {
      "text/plain": [
       "True"
      ]
     },
     "execution_count": 13,
     "metadata": {},
     "output_type": "execute_result"
    }
   ],
   "source": [
    "os.path.isfile('xkcd_poem')"
   ]
  },
  {
   "cell_type": "code",
   "execution_count": 14,
   "metadata": {},
   "outputs": [
    {
     "data": {
      "text/plain": [
       "False"
      ]
     },
     "execution_count": 14,
     "metadata": {},
     "output_type": "execute_result"
    }
   ],
   "source": [
    "os.path.isdir('xkcd_poem')"
   ]
  },
  {
   "cell_type": "code",
   "execution_count": 15,
   "metadata": {},
   "outputs": [
    {
     "data": {
      "text/plain": [
       "False"
      ]
     },
     "execution_count": 15,
     "metadata": {},
     "output_type": "execute_result"
    }
   ],
   "source": [
    "os.path.isfile('my_directory')"
   ]
  },
  {
   "cell_type": "code",
   "execution_count": 16,
   "metadata": {},
   "outputs": [
    {
     "data": {
      "text/plain": [
       "True"
      ]
     },
     "execution_count": 16,
     "metadata": {},
     "output_type": "execute_result"
    }
   ],
   "source": [
    "os.path.isdir('my_directory')"
   ]
  },
  {
   "cell_type": "markdown",
   "metadata": {},
   "source": [
    "You can use the `.` and `..` as shorthands for the current directory and the parent directory, respectively. Note that we can use absolute as well as relative paths with the functions explained in this section. "
   ]
  },
  {
   "cell_type": "code",
   "execution_count": 17,
   "metadata": {},
   "outputs": [
    {
     "data": {
      "text/plain": [
       "True"
      ]
     },
     "execution_count": 17,
     "metadata": {},
     "output_type": "execute_result"
    }
   ],
   "source": [
    "os.path.isdir('.')"
   ]
  },
  {
   "cell_type": "code",
   "execution_count": 18,
   "metadata": {},
   "outputs": [
    {
     "data": {
      "text/plain": [
       "True"
      ]
     },
     "execution_count": 18,
     "metadata": {},
     "output_type": "execute_result"
    }
   ],
   "source": [
    "os.path.isdir('../python')"
   ]
  },
  {
   "cell_type": "markdown",
   "metadata": {},
   "source": [
    "### 2.4 Absolute vs. relative paths"
   ]
  },
  {
   "cell_type": "markdown",
   "metadata": {},
   "source": [
    "To check whether something is an absolute or relative file path, you can use the `isabs` function. Note that it just checks for the kind of path not whether this path actually exists. "
   ]
  },
  {
   "cell_type": "code",
   "execution_count": 19,
   "metadata": {},
   "outputs": [
    {
     "data": {
      "text/plain": [
       "True"
      ]
     },
     "execution_count": 19,
     "metadata": {},
     "output_type": "execute_result"
    }
   ],
   "source": [
    "os.path.isabs('/usr/')"
   ]
  },
  {
   "cell_type": "code",
   "execution_count": 20,
   "metadata": {},
   "outputs": [
    {
     "data": {
      "text/plain": [
       "False"
      ]
     },
     "execution_count": 20,
     "metadata": {},
     "output_type": "execute_result"
    }
   ],
   "source": [
    "os.path.isabs('../python')"
   ]
  },
  {
   "cell_type": "markdown",
   "metadata": {},
   "source": [
    "Sometimes, we also want the absolute path of a directory or file. This can be accomplished with the `abspath` function. "
   ]
  },
  {
   "cell_type": "code",
   "execution_count": 21,
   "metadata": {},
   "outputs": [
    {
     "data": {
      "text/plain": [
       "'/Users/jlanger/Dropbox/uzh_programming/python'"
      ]
     },
     "execution_count": 21,
     "metadata": {},
     "output_type": "execute_result"
    }
   ],
   "source": [
    "os.path.abspath('.')"
   ]
  },
  {
   "cell_type": "markdown",
   "metadata": {},
   "source": [
    "### 2.5 Renaming files and directories with `rename`"
   ]
  },
  {
   "cell_type": "markdown",
   "metadata": {},
   "source": [
    "Let's admit it, the name of the directory that we created, `my_directory`, is truly generic. Let's rename it using Python. "
   ]
  },
  {
   "cell_type": "code",
   "execution_count": 22,
   "metadata": {},
   "outputs": [],
   "source": [
    "os.rename('my_directory', 'han_shot_first')"
   ]
  },
  {
   "cell_type": "markdown",
   "metadata": {},
   "source": [
    "Has it worked? Let's use Python to find out. "
   ]
  },
  {
   "cell_type": "code",
   "execution_count": 23,
   "metadata": {},
   "outputs": [
    {
     "data": {
      "text/plain": [
       "['.DS_Store',\n",
       " '.ipynb_checkpoints',\n",
       " 'Code Structures I.ipynb',\n",
       " 'Code Structures II.ipynb',\n",
       " 'han_shot_first',\n",
       " 'Input-Output.ipynb',\n",
       " 'normal ml.ipynb',\n",
       " 'Numpy.ipynb',\n",
       " 'Pandas-Matplotlib.ipynb',\n",
       " 'Python Ingredients I.ipynb',\n",
       " 'Python Ingredients II.ipynb',\n",
       " 'Regular Expressions.ipynb',\n",
       " 'SciPy.ipynb',\n",
       " 'xkcd_poem',\n",
       " 'xkcd_poem2']"
      ]
     },
     "execution_count": 23,
     "metadata": {},
     "output_type": "execute_result"
    }
   ],
   "source": [
    "os.listdir()"
   ]
  },
  {
   "cell_type": "markdown",
   "metadata": {},
   "source": [
    "### 2.6 Copy files and directories with `copy` and `copytree`"
   ]
  },
  {
   "cell_type": "markdown",
   "metadata": {},
   "source": [
    "For copying files, we need to import the `copy` and `copytree` functions from the `shutil` module."
   ]
  },
  {
   "cell_type": "code",
   "execution_count": 24,
   "metadata": {
    "collapsed": true
   },
   "outputs": [],
   "source": [
    "import shutil"
   ]
  },
  {
   "cell_type": "code",
   "execution_count": 25,
   "metadata": {},
   "outputs": [
    {
     "data": {
      "text/plain": [
       "['.DS_Store',\n",
       " '.ipynb_checkpoints',\n",
       " 'Code Structures I.ipynb',\n",
       " 'Code Structures II.ipynb',\n",
       " 'han_shot_first',\n",
       " 'Input-Output.ipynb',\n",
       " 'nerdy_poem',\n",
       " 'nerdy_position',\n",
       " 'normal ml.ipynb',\n",
       " 'Numpy.ipynb',\n",
       " 'Pandas-Matplotlib.ipynb',\n",
       " 'Python Ingredients I.ipynb',\n",
       " 'Python Ingredients II.ipynb',\n",
       " 'Regular Expressions.ipynb',\n",
       " 'SciPy.ipynb',\n",
       " 'xkcd_poem',\n",
       " 'xkcd_poem2']"
      ]
     },
     "execution_count": 25,
     "metadata": {},
     "output_type": "execute_result"
    }
   ],
   "source": [
    "shutil.copy('xkcd_poem', 'nerdy_poem')\n",
    "shutil.copytree('han_shot_first', 'nerdy_position')\n",
    "os.listdir()"
   ]
  },
  {
   "cell_type": "markdown",
   "metadata": {},
   "source": [
    "### 2.7 Remove files and directories with `remove` and `rmdir`"
   ]
  },
  {
   "cell_type": "markdown",
   "metadata": {},
   "source": [
    "By now, we have created quite a mess in our working directory. Let's delete new folders and files. "
   ]
  },
  {
   "cell_type": "code",
   "execution_count": 26,
   "metadata": {},
   "outputs": [
    {
     "data": {
      "text/plain": [
       "['.DS_Store',\n",
       " '.ipynb_checkpoints',\n",
       " 'Code Structures I.ipynb',\n",
       " 'Code Structures II.ipynb',\n",
       " 'han_shot_first',\n",
       " 'Input-Output.ipynb',\n",
       " 'normal ml.ipynb',\n",
       " 'Numpy.ipynb',\n",
       " 'Pandas-Matplotlib.ipynb',\n",
       " 'Python Ingredients I.ipynb',\n",
       " 'Python Ingredients II.ipynb',\n",
       " 'Regular Expressions.ipynb',\n",
       " 'SciPy.ipynb',\n",
       " 'xkcd_poem',\n",
       " 'xkcd_poem2']"
      ]
     },
     "execution_count": 26,
     "metadata": {},
     "output_type": "execute_result"
    }
   ],
   "source": [
    "os.remove('nerdy_poem')\n",
    "os.rmdir('nerdy_position')\n",
    "os.listdir()"
   ]
  },
  {
   "cell_type": "markdown",
   "metadata": {},
   "source": [
    "Well, not exactly tidy but good enough for now. Just one last thing."
   ]
  },
  {
   "cell_type": "markdown",
   "metadata": {},
   "source": [
    "### 2.8 Changing directories with `chdir`"
   ]
  },
  {
   "cell_type": "markdown",
   "metadata": {},
   "source": [
    "So far we have stayed in our current working directory. But we can also change directories with the aptly names `chdir` function."
   ]
  },
  {
   "cell_type": "code",
   "execution_count": 27,
   "metadata": {},
   "outputs": [
    {
     "data": {
      "text/plain": [
       "'/Users/jlanger/Dropbox/uzh_programming/python/han_shot_first'"
      ]
     },
     "execution_count": 27,
     "metadata": {},
     "output_type": "execute_result"
    }
   ],
   "source": [
    "os.chdir('han_shot_first')\n",
    "os.getcwd()"
   ]
  }
 ],
 "metadata": {
  "kernelspec": {
   "display_name": "Python 3",
   "language": "python",
   "name": "python3"
  },
  "language_info": {
   "codemirror_mode": {
    "name": "ipython",
    "version": 3
   },
   "file_extension": ".py",
   "mimetype": "text/x-python",
   "name": "python",
   "nbconvert_exporter": "python",
   "pygments_lexer": "ipython3",
   "version": "3.6.1"
  }
 },
 "nbformat": 4,
 "nbformat_minor": 1
}
