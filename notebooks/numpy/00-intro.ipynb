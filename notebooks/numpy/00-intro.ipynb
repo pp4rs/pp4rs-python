{
 "cells": [
  {
   "cell_type": "markdown",
   "source": [
    "# A Brief Introduction to NumPy\n",
    "\n",
    "## Where we have been\n",
    "\n",
    "In the Python classes to date (ADD LINKS) we discussed some important programming basics and learnt some important fundamentals of the Python language. This is rarely enough to do scientific research on its own.\n",
    "\n",
    "## NumPy\n",
    "\n",
    "In this module, we introduce the `NumPy` module, which is perhaps *the* fundamental package for scientific computing in Python. Numpy provides the core tool of scientific computing, N-dimensional arrays, as well as tools to work with these arrays.\n",
    "\n",
    "NumPy's N-dimensional array and functionality gives us, the user, efficient storage and operations on arrays - even when they grow large in size.\n",
    "\n",
    "We import the NumPy library as follows:"
   ],
   "metadata": {}
  },
  {
   "cell_type": "code",
   "execution_count": 1,
   "source": [
    "import numpy as np"
   ],
   "outputs": [],
   "metadata": {
    "collapsed": true
   }
  },
  {
   "cell_type": "markdown",
   "source": [
    "where we have followed the 'standard convention' of importing numpy under the alias '`np`.'\n",
    "\n",
    "We can check the version of NumPy which we have installed on our machine as follows:"
   ],
   "metadata": {}
  },
  {
   "cell_type": "code",
   "execution_count": 2,
   "source": [
    "np.__version__"
   ],
   "outputs": [
    {
     "output_type": "execute_result",
     "data": {
      "text/plain": [
       "'1.13.1'"
      ]
     },
     "metadata": {},
     "execution_count": 2
    }
   ],
   "metadata": {
    "collapsed": false
   }
  },
  {
   "cell_type": "markdown",
   "source": [
    "We recommend having a version of NumPy that is version 1.10 or later; but for what we are covering this should not matter too much. If you want to update your NumPy to the latest version you can use the following command in a terminal\n",
    "\n",
    "```bash\n",
    "$ pip install numpy --upgrade\n",
    "```\n",
    "\n",
    "to update using the `pip` package manager, or using Anaconda's own package manager, conda by entering the command in a terminal\n",
    "\n",
    "```bash\n",
    "$ conda update numpy\n",
    "```"
   ],
   "metadata": {}
  },
  {
   "cell_type": "markdown",
   "source": [
    "## Where to Next?\n",
    "\n",
    "The following notebooks provide a relatively condensed introduction to the NumPy library. That said, we hope to have provided enough information for you to feel comfortable doing array computing using the library.\n",
    "\n",
    "Once we are comfortable with the NumPy library, we will continue our journey into scientific computing with Python, looking further into:\n",
    "\n",
    "* `Pandas` - easy-to-use data structures and data analysis tools\n",
    "* `Matplotlib` - plotting library which produces publication quality figures\n",
    "* `Statsmodels` and `linearmodels` -  the estimation of statistical models, and statistical data exploration\n",
    "* `SciPy` - user-friendly and efficient numerical routines\n",
    "\n",
    "\n",
    "all of these libraries rely heavily on functionality from the the N-dimensional array object that NumPy provides."
   ],
   "metadata": {}
  }
 ],
 "metadata": {
  "anaconda-cloud": {},
  "kernelspec": {
   "display_name": "python3",
   "language": "python",
   "name": "python3"
  },
  "language_info": {
   "codemirror_mode": {
    "name": "ipython",
    "version": 3
   },
   "file_extension": ".py",
   "mimetype": "text/x-python",
   "name": "python",
   "nbconvert_exporter": "python",
   "pygments_lexer": "ipython3",
   "version": "3.5.2"
  }
 },
 "nbformat": 4,
 "nbformat_minor": 2
}
