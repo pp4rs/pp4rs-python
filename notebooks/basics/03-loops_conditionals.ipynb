{
 "cells": [
  {
   "cell_type": "markdown",
   "metadata": {},
   "source": [
    "# Code Structures I: Conditionals, Loops, and Comprehensions"
   ]
  },
  {
   "cell_type": "markdown",
   "metadata": {},
   "source": [
    "\n",
    "## 1 Checking cases: `if`, `elif`, and `else`"
   ]
  },
  {
   "cell_type": "markdown",
   "metadata": {},
   "source": [
    "### 1.1 The simple case with `if` and `else`"
   ]
  },
  {
   "cell_type": "markdown",
   "metadata": {},
   "source": [
    "We start with one of the simplest code structures: `if` and `else`. These statements are used to check the truth-value of a particular condition and, depending on whether it is evaluated to be `True` or `False`, run a code block.     "
   ]
  },
  {
   "cell_type": "code",
   "execution_count": 1,
   "metadata": {},
   "outputs": [
    {
     "name": "stdout",
     "output_type": "stream",
     "text": [
      "Yay!\n"
     ]
    }
   ],
   "source": [
    "recession = False\n",
    "if recession:\n",
    "    print('Booh!')\n",
    "else:\n",
    "    print('Yay!')"
   ]
  },
  {
   "cell_type": "markdown",
   "metadata": {},
   "source": [
    "What did the code do here? In the first line, we assigned the boolean `False` to the variable `recession`. In the second line, we check the truth value of the expression `recession`. Since it is equal to `False`, the indented code block starting in the third block is not executed. Instead, the indented code behind the `else:` expression is executed.\n",
    "\n",
    "Note that the expression whose truth value we check is not written in parentheses as in other languages but concluded with a colon. Moreover, the code to be executed after the `if` and `else` statements is also not set in brackets but indented. This gives the code a very clean and tidy look. \n",
    "\n",
    "Of course, you can also nest `if`-`else` structures within each other but I won't show it here as it is straightforward. "
   ]
  },
  {
   "cell_type": "markdown",
   "metadata": {},
   "source": [
    "### 1.2 Checking several cases with `elif`"
   ]
  },
  {
   "cell_type": "markdown",
   "metadata": {},
   "source": [
    "So, what if you want to check more than one case? Use `elif`!"
   ]
  },
  {
   "cell_type": "code",
   "execution_count": 2,
   "metadata": {},
   "outputs": [
    {
     "name": "stdout",
     "output_type": "stream",
     "text": [
      "It is an onion!\n"
     ]
    }
   ],
   "source": [
    "color = 'violet'\n",
    "if color == 'red':\n",
    "    print('It is a tomatoe!')\n",
    "elif color == 'yellow':\n",
    "    print('It is a yellow pepper!')\n",
    "elif color == 'violet': \n",
    "    print('It is an onion!')\n",
    "else:\n",
    "    print('No idea what this is.')"
   ]
  },
  {
   "cell_type": "markdown",
   "metadata": {},
   "source": [
    "We assigned the string `'violet'` to the variable `'color'`. The second line checked whether the variable `color` is equal to the string `'red'`. This was evaluated to be `False` so Python did not execute the indented code and jumped to the next condition. It then checked the second expression. Color was also not equal to yellow it again skipped the indented code. Finally, the third expression turned out to be `True`, so Python printed the string `'It is an onion!'`. "
   ]
  },
  {
   "cell_type": "markdown",
   "metadata": {},
   "source": [
    "### 1.3 Comparison operators"
   ]
  },
  {
   "cell_type": "markdown",
   "metadata": {},
   "source": [
    "In the previous example, we used the equality operator `==`. Let's briefly run through the different comparison operators that Python has to offer: \n",
    "* `==`: equality\n",
    "* `!=`: inequality\n",
    "* `<`: less than\n",
    "* `<=`: less than or equal\n",
    "* `in`: membership.\n",
    "\n",
    "Finally, to combine expressions you want to check, use the boolean operators `and` and `or`. If you want to negate a statement, use `not`. So, let's play around a little bit."
   ]
  },
  {
   "cell_type": "code",
   "execution_count": 3,
   "metadata": {
    "collapsed": true
   },
   "outputs": [],
   "source": [
    "x = 7"
   ]
  },
  {
   "cell_type": "code",
   "execution_count": 4,
   "metadata": {},
   "outputs": [
    {
     "data": {
      "text/plain": [
       "False"
      ]
     },
     "execution_count": 4,
     "metadata": {},
     "output_type": "execute_result"
    }
   ],
   "source": [
    "x < 7"
   ]
  },
  {
   "cell_type": "code",
   "execution_count": 5,
   "metadata": {},
   "outputs": [
    {
     "data": {
      "text/plain": [
       "True"
      ]
     },
     "execution_count": 5,
     "metadata": {},
     "output_type": "execute_result"
    }
   ],
   "source": [
    "x <= 7"
   ]
  },
  {
   "cell_type": "code",
   "execution_count": 6,
   "metadata": {},
   "outputs": [],
   "source": [
    "number_list = [5, 6, 7]"
   ]
  },
  {
   "cell_type": "code",
   "execution_count": 7,
   "metadata": {},
   "outputs": [
    {
     "data": {
      "text/plain": [
       "True"
      ]
     },
     "execution_count": 7,
     "metadata": {},
     "output_type": "execute_result"
    }
   ],
   "source": [
    "x in number_list"
   ]
  },
  {
   "cell_type": "code",
   "execution_count": 8,
   "metadata": {},
   "outputs": [
    {
     "data": {
      "text/plain": [
       "False"
      ]
     },
     "execution_count": 8,
     "metadata": {},
     "output_type": "execute_result"
    }
   ],
   "source": [
    "x not in number_list"
   ]
  },
  {
   "cell_type": "code",
   "execution_count": 9,
   "metadata": {},
   "outputs": [
    {
     "data": {
      "text/plain": [
       "True"
      ]
     },
     "execution_count": 9,
     "metadata": {},
     "output_type": "execute_result"
    }
   ],
   "source": [
    "x < 5 or x >= 7"
   ]
  },
  {
   "cell_type": "code",
   "execution_count": 10,
   "metadata": {},
   "outputs": [
    {
     "data": {
      "text/plain": [
       "False"
      ]
     },
     "execution_count": 10,
     "metadata": {},
     "output_type": "execute_result"
    }
   ],
   "source": [
    "x < 5 and x >= 7"
   ]
  },
  {
   "cell_type": "code",
   "execution_count": 11,
   "metadata": {},
   "outputs": [
    {
     "data": {
      "text/plain": [
       "True"
      ]
     },
     "execution_count": 11,
     "metadata": {},
     "output_type": "execute_result"
    }
   ],
   "source": [
    "5 < x < 10"
   ]
  },
  {
   "cell_type": "markdown",
   "metadata": {},
   "source": [
    "It might make sense to use parentheses in order to organize the precedence of expressions."
   ]
  },
  {
   "cell_type": "code",
   "execution_count": 12,
   "metadata": {},
   "outputs": [
    {
     "data": {
      "text/plain": [
       "False"
      ]
     },
     "execution_count": 12,
     "metadata": {},
     "output_type": "execute_result"
    }
   ],
   "source": [
    "(x < 5) and (x >= 7)"
   ]
  },
  {
   "cell_type": "markdown",
   "metadata": {},
   "source": [
    "## 2 Repeat with `while` loops"
   ]
  },
  {
   "cell_type": "markdown",
   "metadata": {},
   "source": [
    "Sometimes, instead of checking cases, you want to repeat a certain action until a condition has been met. You can do this with a _while_ loop. "
   ]
  },
  {
   "cell_type": "code",
   "execution_count": 13,
   "metadata": {},
   "outputs": [
    {
     "name": "stdout",
     "output_type": "stream",
     "text": [
      "1\n",
      "2\n",
      "3\n",
      "4\n",
      "5\n"
     ]
    }
   ],
   "source": [
    "count = 1\n",
    "while count <= 5:\n",
    "    print(count)\n",
    "    count += 1"
   ]
  },
  {
   "cell_type": "markdown",
   "metadata": {},
   "source": [
    "In the first line, we assigned the value `1` to the variable `count`. Then, the actual loop started. In the second line, the value of the condition `count <= 5` is checked. In the first run, this expression is equal to `True`. Therefore, the indented code is executed and the variable `count` is increased by one. The loop is repeatedly executed until `count = 6`. Then, the expression `count <= 5` is equal to `False` and the loop ends.   "
   ]
  },
  {
   "cell_type": "markdown",
   "metadata": {},
   "source": [
    "If you want to repeat a loop until something happens, but you don't know when it occurs, you can use the `break` command. "
   ]
  },
  {
   "cell_type": "code",
   "execution_count": 14,
   "metadata": {},
   "outputs": [
    {
     "name": "stdout",
     "output_type": "stream",
     "text": [
      "String to capitalize (type q to quit):house\n",
      "House\n",
      "String to capitalize (type q to quit):q\n"
     ]
    }
   ],
   "source": [
    "while True: \n",
    "    string = input('String to capitalize (type q to quit):')\n",
    "    if string == 'q':\n",
    "        break\n",
    "    print(string.capitalize())"
   ]
  },
  {
   "cell_type": "markdown",
   "metadata": {},
   "source": [
    "This loop is repeated infinitely since the expression `True` is always `True`. However, Python let's you break out of the loop with `break` if a certain condition is met. In this case, this condition is that you type in the string `'q'`. We can combine our code snippet with `continue` to skip the rest of the loop and directly start with the next iteration. "
   ]
  },
  {
   "cell_type": "code",
   "execution_count": 15,
   "metadata": {},
   "outputs": [
    {
     "name": "stdout",
     "output_type": "stream",
     "text": [
      "Odd integer, please (type q to quit):2\n",
      "Odd integer, please (type q to quit):3\n",
      "3  squared is  9\n",
      "Odd integer, please (type q to quit):q\n"
     ]
    }
   ],
   "source": [
    "while True: \n",
    "    value = input('Odd integer, please (type q to quit):')\n",
    "    if value =='q':\n",
    "        break\n",
    "    number = int(value)\n",
    "    if number % 2 == 0:\n",
    "        continue\n",
    "    print(number, ' squared is ', number * number)"
   ]
  },
  {
   "cell_type": "markdown",
   "metadata": {},
   "source": [
    "## 3 Iterate with `for` loops"
   ]
  },
  {
   "cell_type": "markdown",
   "metadata": {},
   "source": [
    "### 3.1 Looping over lists"
   ]
  },
  {
   "cell_type": "markdown",
   "metadata": {},
   "source": [
    "The use of a `for` loop is particularly helpful if you want go through an iterable object, such as a list. To see the situation, look at the following `while` loop which goes through a list and prints out each element. "
   ]
  },
  {
   "cell_type": "code",
   "execution_count": 16,
   "metadata": {},
   "outputs": [
    {
     "name": "stdout",
     "output_type": "stream",
     "text": [
      "Hayek\n",
      "Keynes\n",
      "Marshall\n",
      "Krugman\n"
     ]
    }
   ],
   "source": [
    "economists = ['Hayek', 'Keynes', 'Marshall', 'Krugman']\n",
    "current = 0\n",
    "while current < len(economists):\n",
    "    print(economists[current])\n",
    "    current += 1"
   ]
  },
  {
   "cell_type": "markdown",
   "metadata": {},
   "source": [
    "While this code snippet works it is certainly not elegant, since we have to create and repeatedly increment the counter `current` to loop through the list. A simpler way using a `for` loop would be as follows. "
   ]
  },
  {
   "cell_type": "code",
   "execution_count": 1,
   "metadata": {},
   "outputs": [
    {
     "name": "stdout",
     "output_type": "stream",
     "text": [
      "Hayek\n",
      "Keynes\n",
      "Marshall\n",
      "Krugman\n"
     ]
    }
   ],
   "source": [
    "economists = ['Hayek', 'Keynes', 'Marshall', 'Krugman']\n",
    "for economist in economists: \n",
    "    print(economist)"
   ]
  },
  {
   "cell_type": "markdown",
   "metadata": {},
   "source": [
    "This loop automatically creates the variable `economist` which with each iteration of the loop takes the value of a different element from the lists `economists`. The loop proceeds until it has gone through the whole list. "
   ]
  },
  {
   "cell_type": "markdown",
   "metadata": {},
   "source": [
    "### 3.2 Looping over strings and dictionaries"
   ]
  },
  {
   "cell_type": "markdown",
   "metadata": {},
   "source": [
    "There are also other iterable objects, such as strings or dictionaries. In the case of a string, the iteration loops through the characters of the string."
   ]
  },
  {
   "cell_type": "code",
   "execution_count": 18,
   "metadata": {
    "scrolled": true
   },
   "outputs": [
    {
     "name": "stdout",
     "output_type": "stream",
     "text": [
      "S\n",
      "a\n",
      "m\n",
      "u\n",
      "e\n",
      "l\n",
      "s\n",
      "o\n",
      "n\n"
     ]
    }
   ],
   "source": [
    "word = 'Samuelson'\n",
    "for letter in word: \n",
    "    print(letter)"
   ]
  },
  {
   "cell_type": "markdown",
   "metadata": {},
   "source": [
    "So what happens if we loop over a dictionary?"
   ]
  },
  {
   "cell_type": "code",
   "execution_count": 19,
   "metadata": {},
   "outputs": [
    {
     "name": "stdout",
     "output_type": "stream",
     "text": [
      "name\n",
      "affiliation\n",
      "nationality\n"
     ]
    }
   ],
   "source": [
    "biography = {'name' : 'Hayek', 'affiliation' : 'University of Freiburg', 'nationality' : 'Austrian'}\n",
    "for element in biography: \n",
    "    print(element)"
   ]
  },
  {
   "cell_type": "markdown",
   "metadata": {},
   "source": [
    "As you can see, a `for` loop without qualification runs through the keys of the dictionary. What if we want to loop through the values? "
   ]
  },
  {
   "cell_type": "code",
   "execution_count": 20,
   "metadata": {},
   "outputs": [
    {
     "name": "stdout",
     "output_type": "stream",
     "text": [
      "Hayek\n",
      "University of Freiburg\n",
      "Austrian\n"
     ]
    }
   ],
   "source": [
    "biography = {'name' : 'Hayek', 'affiliation' : 'University of Freiburg', 'nationality' : 'Austrian'}\n",
    "for element in biography.values():\n",
    "    print(element)"
   ]
  },
  {
   "cell_type": "markdown",
   "metadata": {},
   "source": [
    "Finally, what if we want the loop to return both the key as well as the corresponding values? Use the `items` function!"
   ]
  },
  {
   "cell_type": "code",
   "execution_count": 21,
   "metadata": {},
   "outputs": [
    {
     "name": "stdout",
     "output_type": "stream",
     "text": [
      "('name', 'Hayek')\n",
      "('affiliation', 'University of Freiburg')\n",
      "('nationality', 'Austrian')\n"
     ]
    }
   ],
   "source": [
    "biography = {'name' : 'Hayek', 'affiliation' : 'University of Freiburg', 'nationality' : 'Austrian'}\n",
    "for element in biography.items():\n",
    "    print(element)"
   ]
  },
  {
   "cell_type": "markdown",
   "metadata": {},
   "source": [
    "In this case, each item is assigned a tuple with two values. What if we want to have both elements separately? Remeber the cool assignment trick for tuples?"
   ]
  },
  {
   "cell_type": "code",
   "execution_count": 22,
   "metadata": {},
   "outputs": [
    {
     "name": "stdout",
     "output_type": "stream",
     "text": [
      "The key is name and the corresponding value is Hayek.\n",
      "The key is affiliation and the corresponding value is University of Freiburg.\n",
      "The key is nationality and the corresponding value is Austrian.\n"
     ]
    }
   ],
   "source": [
    "biography = {'name' : 'Hayek', 'affiliation' : 'University of Freiburg', 'nationality' : 'Austrian'}\n",
    "for key, value in biography.items():\n",
    "    print('The key is ' + key + ' and the corresponding value is ' + value + '.')"
   ]
  },
  {
   "cell_type": "markdown",
   "metadata": {},
   "source": [
    "### 3.3 Looping over several lists with `zip`"
   ]
  },
  {
   "cell_type": "markdown",
   "metadata": {},
   "source": [
    "What if we want to loop over several lists at once? This is possible with the `zip` function. "
   ]
  },
  {
   "cell_type": "code",
   "execution_count": 23,
   "metadata": {},
   "outputs": [
    {
     "name": "stdout",
     "output_type": "stream",
     "text": [
      "Hayek loves chocolate icecream.\n",
      "Keynes loves vanilla icecream.\n",
      "Marshall loves coconut icecream.\n",
      "Krugman loves cookie icecream.\n"
     ]
    }
   ],
   "source": [
    "economists = ['Hayek', 'Keynes', 'Marshall', 'Krugman']\n",
    "icecreams = ['chocolate', 'vanilla', 'coconut', 'cookie']\n",
    "\n",
    "for economist, icecream in zip(economists, icecreams): \n",
    "    print(economist + ' loves ' + icecream + ' icecream.')"
   ]
  },
  {
   "cell_type": "markdown",
   "metadata": {},
   "source": [
    "These sweet-tooths..."
   ]
  },
  {
   "cell_type": "markdown",
   "metadata": {},
   "source": [
    "### 3.4 Generating sequences of numbers with `range`"
   ]
  },
  {
   "cell_type": "markdown",
   "metadata": {},
   "source": [
    "Sometimes you want to iterate through a sequence of numbers. These sequences can be easily created with the `range` function."
   ]
  },
  {
   "cell_type": "code",
   "execution_count": 24,
   "metadata": {},
   "outputs": [
    {
     "name": "stdout",
     "output_type": "stream",
     "text": [
      "0\n",
      "1\n",
      "2\n"
     ]
    }
   ],
   "source": [
    "# range(start, stop, step)\n",
    "# default value is 0 for start, and 1 for step\n",
    "for value in range(3):\n",
    "    print(value)"
   ]
  },
  {
   "cell_type": "markdown",
   "metadata": {},
   "source": [
    "As with slicing, the right side of the offset range is not included. "
   ]
  },
  {
   "cell_type": "code",
   "execution_count": 25,
   "metadata": {},
   "outputs": [
    {
     "name": "stdout",
     "output_type": "stream",
     "text": [
      "2\n",
      "3\n"
     ]
    }
   ],
   "source": [
    "for value in range(2, 4, 1):\n",
    "    print(value)"
   ]
  },
  {
   "cell_type": "code",
   "execution_count": 26,
   "metadata": {},
   "outputs": [
    {
     "name": "stdout",
     "output_type": "stream",
     "text": [
      "4\n",
      "3\n",
      "2\n",
      "1\n",
      "0\n"
     ]
    }
   ],
   "source": [
    "for value in range(4, -1, -1):\n",
    "    print(value)"
   ]
  },
  {
   "cell_type": "markdown",
   "metadata": {},
   "source": [
    "By the way, the `range` function can also be used to create lists of sequences quickly. "
   ]
  },
  {
   "cell_type": "code",
   "execution_count": 27,
   "metadata": {},
   "outputs": [
    {
     "data": {
      "text/plain": [
       "[0, 1, 2]"
      ]
     },
     "execution_count": 27,
     "metadata": {},
     "output_type": "execute_result"
    }
   ],
   "source": [
    "list(range(3))"
   ]
  },
  {
   "cell_type": "markdown",
   "metadata": {},
   "source": [
    "## 4 Comprehensions"
   ]
  },
  {
   "cell_type": "markdown",
   "metadata": {},
   "source": [
    "### 4.1 List Comprehensions"
   ]
  },
  {
   "cell_type": "markdown",
   "metadata": {
    "collapsed": true
   },
   "source": [
    "There is another feature of the Python language which sometimes helps you in avoiding complicated structures of loops and conditional tests: comprehensions. This is already an advanced topic but once you get it, you will (might) love it! Let's create a list with the numbers 1 to 6. We already now several ways to do this. "
   ]
  },
  {
   "cell_type": "code",
   "execution_count": 28,
   "metadata": {},
   "outputs": [
    {
     "name": "stdout",
     "output_type": "stream",
     "text": [
      "[1, 2, 3, 4, 5, 6]\n"
     ]
    }
   ],
   "source": [
    "number_list = []\n",
    "number_list.append(1)\n",
    "number_list.append(2)\n",
    "number_list.append(3)\n",
    "number_list.append(4)\n",
    "number_list.append(5)\n",
    "number_list.append(6)\n",
    "print(number_list)"
   ]
  },
  {
   "cell_type": "code",
   "execution_count": 29,
   "metadata": {},
   "outputs": [
    {
     "name": "stdout",
     "output_type": "stream",
     "text": [
      "[1, 2, 3, 4, 5, 6]\n"
     ]
    }
   ],
   "source": [
    "number_list = list(range(1,7))\n",
    "print(number_list)"
   ]
  },
  {
   "cell_type": "code",
   "execution_count": 30,
   "metadata": {},
   "outputs": [
    {
     "name": "stdout",
     "output_type": "stream",
     "text": [
      "[1, 2, 3, 4, 5, 6]\n"
     ]
    }
   ],
   "source": [
    "number_list = []\n",
    "for number in range(1, 7):\n",
    "    number_list.append(number)\n",
    "print(number_list)"
   ]
  },
  {
   "cell_type": "markdown",
   "metadata": {},
   "source": [
    "Now, the easiest way to do the same thing using a comprehension is as follows."
   ]
  },
  {
   "cell_type": "code",
   "execution_count": 31,
   "metadata": {},
   "outputs": [
    {
     "name": "stdout",
     "output_type": "stream",
     "text": [
      "[1, 2, 3, 4, 5, 6]\n"
     ]
    }
   ],
   "source": [
    "number_list = [number for number in range(1,7)]\n",
    "print(number_list)"
   ]
  },
  {
   "cell_type": "markdown",
   "metadata": {},
   "source": [
    "The general syntax is `[expression for item in iterable]`. You might not see the advantage yet. We will get there. First, note that expression can also be something more complicated. In the following, I create a list with the squares of the numbers from 1 to 6. "
   ]
  },
  {
   "cell_type": "code",
   "execution_count": 32,
   "metadata": {},
   "outputs": [
    {
     "name": "stdout",
     "output_type": "stream",
     "text": [
      "[1, 4, 9, 16, 25, 36]\n"
     ]
    }
   ],
   "source": [
    "number_list = [number**2 for number in range(1,7)]\n",
    "print(number_list)"
   ]
  },
  {
   "cell_type": "markdown",
   "metadata": {},
   "source": [
    "Secondly, we can extend the basic structure to [_expression_ for _item_ in _iterable_ if _condition_]. Let's say we want to construct a list out of all the odd numbers between 1 and 20. "
   ]
  },
  {
   "cell_type": "code",
   "execution_count": 33,
   "metadata": {},
   "outputs": [
    {
     "name": "stdout",
     "output_type": "stream",
     "text": [
      "[1, 3, 5, 7, 9, 11, 13, 15, 17, 19]\n"
     ]
    }
   ],
   "source": [
    "number_list = [number for number in range(1, 21) if number % 2 == 1]\n",
    "print(number_list)"
   ]
  },
  {
   "cell_type": "markdown",
   "metadata": {},
   "source": [
    "Finally, you can also have several iterables. Let's say we want to loop through every combination of columns and rows.  \n",
    "The first way to do this would be with nested `for` loops. "
   ]
  },
  {
   "cell_type": "code",
   "execution_count": 34,
   "metadata": {},
   "outputs": [
    {
     "name": "stdout",
     "output_type": "stream",
     "text": [
      "1 1\n",
      "1 2\n",
      "2 1\n",
      "2 2\n",
      "3 1\n",
      "3 2\n",
      "4 1\n",
      "4 2\n"
     ]
    }
   ],
   "source": [
    "rows = range(1, 5)\n",
    "cols = range(1, 3)\n",
    "for row in rows: \n",
    "    for col in cols: \n",
    "        print(row, col)"
   ]
  },
  {
   "cell_type": "markdown",
   "metadata": {},
   "source": [
    "A similar thing can also be done with list comprehensions, where we create a tuple for every combinations of rows and columns. "
   ]
  },
  {
   "cell_type": "code",
   "execution_count": 35,
   "metadata": {},
   "outputs": [
    {
     "name": "stdout",
     "output_type": "stream",
     "text": [
      "[(1, 1), (1, 2), (2, 1), (2, 2), (3, 1), (3, 2), (4, 1), (4, 2)]\n"
     ]
    }
   ],
   "source": [
    "rows = range(1, 5)\n",
    "cols = range(1, 3)\n",
    "cells = [(row, col) for row in rows for col in cols]\n",
    "print(cells)"
   ]
  },
  {
   "cell_type": "markdown",
   "metadata": {},
   "source": [
    "If we want to have exactly the same result, we have to unpack the tuples again. "
   ]
  },
  {
   "cell_type": "code",
   "execution_count": 36,
   "metadata": {},
   "outputs": [
    {
     "name": "stdout",
     "output_type": "stream",
     "text": [
      "1 1\n",
      "1 2\n",
      "2 1\n",
      "2 2\n",
      "3 1\n",
      "3 2\n",
      "4 1\n",
      "4 2\n"
     ]
    }
   ],
   "source": [
    "for row, col in cells:\n",
    "    print(row, col)"
   ]
  },
  {
   "cell_type": "markdown",
   "metadata": {},
   "source": [
    "### 4.2 Dictionary Comprehensions"
   ]
  },
  {
   "cell_type": "markdown",
   "metadata": {},
   "source": [
    "Similar structures can also be used to create dictionaries. The expression is `{key_expression : value_expression for item in iterable}`. Say we want to store the numbers from 1 to 10 together with their squares."
   ]
  },
  {
   "cell_type": "code",
   "execution_count": 38,
   "metadata": {},
   "outputs": [
    {
     "name": "stdout",
     "output_type": "stream",
     "text": [
      "{1: 1, 2: 4, 3: 9, 4: 16, 5: 25, 6: 36, 7: 49, 8: 64, 9: 81, 10: 100}\n"
     ]
    }
   ],
   "source": [
    "squares_dict = {number : number**2 for number in range(1,11)}\n",
    "print(squares_dict)"
   ]
  },
  {
   "cell_type": "markdown",
   "metadata": {},
   "source": [
    "## Sources"
   ]
  },
  {
   "cell_type": "markdown",
   "metadata": {},
   "source": [
    "The structure of exposition was taken from Bill Lubanovic (2015): Introducing Python: Modern Computing in Simple Packages. O'Reilly: Sebastopol, CA."
   ]
  }
 ],
 "metadata": {
  "kernelspec": {
   "display_name": "Python 3",
   "language": "python",
   "name": "python3"
  },
  "language_info": {
   "codemirror_mode": {
    "name": "ipython",
    "version": 3
   },
   "file_extension": ".py",
   "mimetype": "text/x-python",
   "name": "python",
   "nbconvert_exporter": "python",
   "pygments_lexer": "ipython3",
   "version": "3.6.1"
  }
 },
 "nbformat": 4,
 "nbformat_minor": 1
}
