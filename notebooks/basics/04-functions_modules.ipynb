{
 "cells": [
  {
   "cell_type": "markdown",
   "metadata": {},
   "source": [
    "# Code Structures II: Functions and Modules"
   ]
  },
  {
   "cell_type": "markdown",
   "metadata": {
    "collapsed": true
   },
   "source": [
    "## 1 Functions"
   ]
  },
  {
   "cell_type": "markdown",
   "metadata": {},
   "source": [
    "### 1.1 Defining functions"
   ]
  },
  {
   "cell_type": "markdown",
   "metadata": {},
   "source": [
    "Very often, we want to create reusable code. Imagine that we are given the task to calculate a very standard Cobb-Douglas utility function $u(x_1, x_2) = x_1^{0.4} * x_2^{0.6}$ with $x_1 = 1$ and $x_2 = 2$. We could program it as follows.     "
   ]
  },
  {
   "cell_type": "code",
   "execution_count": 1,
   "metadata": {},
   "outputs": [
    {
     "name": "stdout",
     "output_type": "stream",
     "text": [
      "1.515716566510398\n"
     ]
    }
   ],
   "source": [
    "x1 = 1\n",
    "x2 = 2\n",
    "u = x1**0.4 * x2**0.6\n",
    "print(u)"
   ]
  },
  {
   "cell_type": "markdown",
   "metadata": {},
   "source": [
    "Now, the exercise changes and you are to assume $x_1 = 3$ and $x_2 = 4$ instead. You could of course change your code. "
   ]
  },
  {
   "cell_type": "code",
   "execution_count": 2,
   "metadata": {},
   "outputs": [
    {
     "name": "stdout",
     "output_type": "stream",
     "text": [
      "3.5652049159320067\n"
     ]
    }
   ],
   "source": [
    "x1 = 3\n",
    "x2 = 4\n",
    "u = x1**0.4 * x2**0.6\n",
    "print(u)"
   ]
  },
  {
   "cell_type": "markdown",
   "metadata": {},
   "source": [
    "After a while this gets tedious though. May be we should define a proper function to which we can pass the arguments $x_1$ and $x_2$. We can define a function easily by using the `def` command. "
   ]
  },
  {
   "cell_type": "code",
   "execution_count": 3,
   "metadata": {},
   "outputs": [
    {
     "data": {
      "text/plain": [
       "3.5652049159320067"
      ]
     },
     "execution_count": 3,
     "metadata": {},
     "output_type": "execute_result"
    }
   ],
   "source": [
    "def simple_utility(x1, x2):\n",
    "    u = x1**0.4 * x2**0.6\n",
    "    return u\n",
    "\n",
    "simple_utility(3, 4)"
   ]
  },
  {
   "cell_type": "markdown",
   "metadata": {},
   "source": [
    "As you can see, there are basically three things to a function:\n",
    "+ a name: `simple_utility`, \n",
    "+ the function arguments: `x1` and `x2`, and \n",
    "+ a return value: `u`. "
   ]
  },
  {
   "cell_type": "markdown",
   "metadata": {},
   "source": [
    "We can generalize this function even further by parameterising the exponents. "
   ]
  },
  {
   "cell_type": "code",
   "execution_count": 4,
   "metadata": {},
   "outputs": [
    {
     "data": {
      "text/plain": [
       "3.5652049159320067"
      ]
     },
     "execution_count": 4,
     "metadata": {},
     "output_type": "execute_result"
    }
   ],
   "source": [
    "def simple_utility(x1, x2, a, b):\n",
    "    u = x1**a * x2**b\n",
    "    return u\n",
    "simple_utility(3, 4, 0.4, 0.6)"
   ]
  },
  {
   "cell_type": "markdown",
   "metadata": {},
   "source": [
    "### 1.2 Positional and keyword arguments"
   ]
  },
  {
   "cell_type": "markdown",
   "metadata": {},
   "source": [
    "If we call the function as before without assigning the passed argument explicitly to the function arguments, we have to be very careful to pass the arguments in the right order. While this is not a problem in the case of our simple function, it might get messy with more complicated ones. Alternatively, we can call our function using keywords. The order of the elements is irrelevant then. "
   ]
  },
  {
   "cell_type": "code",
   "execution_count": 5,
   "metadata": {},
   "outputs": [
    {
     "data": {
      "text/plain": [
       "3.5652049159320067"
      ]
     },
     "execution_count": 5,
     "metadata": {},
     "output_type": "execute_result"
    }
   ],
   "source": [
    "simple_utility(x2 = 4, x1 = 3, b = 0.6, a = 0.4)"
   ]
  },
  {
   "cell_type": "markdown",
   "metadata": {},
   "source": [
    "As you can see, the function returns the same value although we have passed argument `b` before `a`. "
   ]
  },
  {
   "cell_type": "markdown",
   "metadata": {},
   "source": [
    "### 1.3 Default values for arguments"
   ]
  },
  {
   "cell_type": "markdown",
   "metadata": {},
   "source": [
    "Sometimes you want to assign default values to specific function arguments. Say you want the exponents of our utility function to be 0.5 and 0.5 by default. We can define such a function as follows. "
   ]
  },
  {
   "cell_type": "code",
   "execution_count": 6,
   "metadata": {},
   "outputs": [
    {
     "name": "stdout",
     "output_type": "stream",
     "text": [
      "3.4641016151377544\n",
      "3.5652049159320067\n"
     ]
    }
   ],
   "source": [
    "def simple_utility(x1, x2, a = 0.5, b = 0.5):\n",
    "    u = x1**a * x2**b\n",
    "    return u\n",
    "print(simple_utility(3, 4))\n",
    "print(simple_utility(3, 4, 0.4, 0.6))"
   ]
  },
  {
   "cell_type": "markdown",
   "metadata": {},
   "source": [
    "### 1.4 Variable number of input arguments"
   ]
  },
  {
   "cell_type": "markdown",
   "metadata": {},
   "source": [
    "Sometimes we want to write functions but don't know the number of arguments that get passed to it. Think of `print` here which accepts an arbitrary number of arguments. "
   ]
  },
  {
   "cell_type": "code",
   "execution_count": 7,
   "metadata": {},
   "outputs": [
    {
     "name": "stdout",
     "output_type": "stream",
     "text": [
      "Hello\n",
      "Hello World\n",
      "Hello World !\n"
     ]
    }
   ],
   "source": [
    "print('Hello')\n",
    "print('Hello', 'World')\n",
    "print('Hello', 'World', '!')"
   ]
  },
  {
   "cell_type": "markdown",
   "metadata": {},
   "source": [
    "To deal with such cases we can use an asterisk. This ensures that all arguments that the function is called with are grouped into a tuple. "
   ]
  },
  {
   "cell_type": "code",
   "execution_count": 8,
   "metadata": {},
   "outputs": [
    {
     "name": "stdout",
     "output_type": "stream",
     "text": [
      "The philosophers are: ('Marx', 'Engels')\n",
      "The philosophers are: ('Rawls', 'Nozick', 'Cohen')\n"
     ]
    }
   ],
   "source": [
    "def print_philosophers(*args):\n",
    "    print('The philosophers are:', args)\n",
    "print_philosophers('Marx', 'Engels')\n",
    "print_philosophers('Rawls', 'Nozick', 'Cohen')"
   ]
  },
  {
   "cell_type": "markdown",
   "metadata": {},
   "source": [
    "The same thing can be done with keyword arguments when you use two asterisks. In this case, variables and their values are put into a dictionary. "
   ]
  },
  {
   "cell_type": "code",
   "execution_count": 9,
   "metadata": {},
   "outputs": [
    {
     "name": "stdout",
     "output_type": "stream",
     "text": [
      "The variable-value pairs are: {'philosopher': 'Nozick', 'economist': 'Hayek'}\n"
     ]
    }
   ],
   "source": [
    "def print_person(**kwargs):\n",
    "    print('The variable-value pairs are:', kwargs)\n",
    "\n",
    "print_person(philosopher = 'Nozick', economist = 'Hayek')"
   ]
  },
  {
   "cell_type": "markdown",
   "metadata": {},
   "source": [
    "### 1.5 Improving documentation with docstrings"
   ]
  },
  {
   "cell_type": "markdown",
   "metadata": {},
   "source": [
    "Usually, we would like to document what a function does. In Python, this is very easy. Just include a string in the first line. If you want to write a longer text use three single quotes at the beginning and end. Note that you can use three single quotes in general to write text over multiple lines. "
   ]
  },
  {
   "cell_type": "code",
   "execution_count": 10,
   "metadata": {},
   "outputs": [],
   "source": [
    "def print_word(word):\n",
    "    '''This function just prints the word given as an input argument.\n",
    "        Input: word \n",
    "        Output: none'''\n",
    "    print(word)"
   ]
  },
  {
   "cell_type": "markdown",
   "metadata": {},
   "source": [
    "If we now use the help function, we get the text that we wrote. "
   ]
  },
  {
   "cell_type": "code",
   "execution_count": 11,
   "metadata": {},
   "outputs": [
    {
     "name": "stdout",
     "output_type": "stream",
     "text": [
      "Help on function print_word in module __main__:\n",
      "\n",
      "print_word(word)\n",
      "    This function just prints the word given as an input argument.\n",
      "    Input: word \n",
      "    Output: none\n",
      "\n"
     ]
    }
   ],
   "source": [
    "help(print_word)"
   ]
  },
  {
   "cell_type": "markdown",
   "metadata": {},
   "source": [
    "You might be wondering why the output is none, since the function does something. It is true that the function prints text on the display, but it does not return any values. "
   ]
  },
  {
   "cell_type": "markdown",
   "metadata": {},
   "source": [
    "### 1.6 Functions are objects!"
   ]
  },
  {
   "cell_type": "markdown",
   "metadata": {},
   "source": [
    "Something that may surprise you as first is that functions are also objects. This means that you can assign them to variables, use them as function arguments and also return them from other functions. "
   ]
  },
  {
   "cell_type": "markdown",
   "metadata": {},
   "source": [
    "Let's say we write a functions whose sole purpose is to print out 'Hello world!'. "
   ]
  },
  {
   "cell_type": "code",
   "execution_count": 12,
   "metadata": {},
   "outputs": [
    {
     "name": "stdout",
     "output_type": "stream",
     "text": [
      "Hello world!\n"
     ]
    }
   ],
   "source": [
    "def print_hw():\n",
    "    print('Hello world!')\n",
    "\n",
    "print_hw()"
   ]
  },
  {
   "cell_type": "markdown",
   "metadata": {},
   "source": [
    "Now, so far this is stuff we already know. But we can now also write a function which runs any function that we pass to it. "
   ]
  },
  {
   "cell_type": "code",
   "execution_count": 13,
   "metadata": {
    "collapsed": true
   },
   "outputs": [],
   "source": [
    "def run_func(func):\n",
    "    func()"
   ]
  },
  {
   "cell_type": "code",
   "execution_count": 14,
   "metadata": {},
   "outputs": [
    {
     "name": "stdout",
     "output_type": "stream",
     "text": [
      "Hello world!\n"
     ]
    }
   ],
   "source": [
    "run_func(print_hw)"
   ]
  },
  {
   "cell_type": "markdown",
   "metadata": {},
   "source": [
    "What did we do here? We first created a function, `print_hw`, which prints `Hello world!`. We then defined another function, `run_func`, which takes a function as an argument and executes it. Note that when we called this function, we did not write `run_func(print_hw())` but got rid of the parentheses instead. Without the parentheses the function works just like another object that we might pass to a function as an argument. "
   ]
  },
  {
   "cell_type": "markdown",
   "metadata": {},
   "source": [
    "We can of course also extend our simple example, by adding additional arguments. "
   ]
  },
  {
   "cell_type": "code",
   "execution_count": 15,
   "metadata": {},
   "outputs": [
    {
     "name": "stdout",
     "output_type": "stream",
     "text": [
      "hello world\n",
      "HELLO WORLD !\n"
     ]
    }
   ],
   "source": [
    "def normal_print(string1, string2):\n",
    "    print(string1, string2)\n",
    "\n",
    "def emphasize_print(string1, string2):\n",
    "    print(string1.upper(), string2.upper(), '!')\n",
    "    \n",
    "def run_func(func, string1, string2): \n",
    "    func(string1, string2)\n",
    "    \n",
    "run_func(normal_print, 'hello', 'world')\n",
    "run_func(emphasize_print, 'hello', 'world')\n",
    "    "
   ]
  },
  {
   "cell_type": "markdown",
   "metadata": {},
   "source": [
    "### 1.7 Anonymous functions"
   ]
  },
  {
   "cell_type": "markdown",
   "metadata": {},
   "source": [
    "Sometimes we have a short function but do not want to go through the trouble of explicitly defining it. Say we have a list of economists. "
   ]
  },
  {
   "cell_type": "code",
   "execution_count": 16,
   "metadata": {
    "collapsed": true
   },
   "outputs": [],
   "source": [
    "economists = ['hayek', 'keynes', 'marshall', 'marx']"
   ]
  },
  {
   "cell_type": "markdown",
   "metadata": {},
   "source": [
    "We have also created a function that applies another function to each element of the list and prints the result out to the display. "
   ]
  },
  {
   "cell_type": "code",
   "execution_count": 17,
   "metadata": {
    "collapsed": true
   },
   "outputs": [],
   "source": [
    "def edit_list(words, func):\n",
    "    for word in words: \n",
    "        print(func(word))"
   ]
  },
  {
   "cell_type": "markdown",
   "metadata": {},
   "source": [
    "We now notice that the economists names should be capitalized and emphasized (Imagine this an Econ 101 motivation seminar.). For this, we could write the following function."
   ]
  },
  {
   "cell_type": "code",
   "execution_count": 18,
   "metadata": {
    "collapsed": true
   },
   "outputs": [],
   "source": [
    "def emphasize_word(word):\n",
    "    return word.capitalize() + '!'"
   ]
  },
  {
   "cell_type": "markdown",
   "metadata": {},
   "source": [
    "The function does what is expected of it. "
   ]
  },
  {
   "cell_type": "code",
   "execution_count": 19,
   "metadata": {},
   "outputs": [
    {
     "name": "stdout",
     "output_type": "stream",
     "text": [
      "Hayek!\n",
      "Keynes!\n",
      "Marshall!\n",
      "Marx!\n"
     ]
    }
   ],
   "source": [
    "edit_list(economists, emphasize_word)"
   ]
  },
  {
   "cell_type": "markdown",
   "metadata": {},
   "source": [
    "Yet somehow this all seems to be relatively wordy, given that our function `emphasize_word` does not do a lot. Can we shorten this up. Yes, we can! Using the lambda function, we could also have written. "
   ]
  },
  {
   "cell_type": "code",
   "execution_count": 20,
   "metadata": {},
   "outputs": [
    {
     "name": "stdout",
     "output_type": "stream",
     "text": [
      "Hayek!\n",
      "Keynes!\n",
      "Marshall!\n",
      "Marx!\n"
     ]
    }
   ],
   "source": [
    "edit_list(economists, lambda word: word.capitalize() + '!')"
   ]
  },
  {
   "cell_type": "markdown",
   "metadata": {},
   "source": [
    "This code does exactly the same as the preceding one but is more compact because we save time on tedious function definitions. You will notice that our function does not have name anymore. It is anonymous! Moreover, you will have noticed the `lambda` which indicates that we want to define an anonymous function.\n",
    "\n",
    "While anonymous function can be practical they also often have a disadvantage: They make the code less explicit. \n",
    "\n",
    "Finally, note that you can use lambda functions also with multiple arguments: "
   ]
  },
  {
   "cell_type": "code",
   "execution_count": 21,
   "metadata": {},
   "outputs": [
    {
     "data": {
      "text/plain": [
       "6"
      ]
     },
     "execution_count": 21,
     "metadata": {},
     "output_type": "execute_result"
    }
   ],
   "source": [
    "addition = lambda x, y: x + y\n",
    "addition(2, 4)"
   ]
  },
  {
   "cell_type": "markdown",
   "metadata": {},
   "source": [
    "### 1.8 Scope "
   ]
  },
  {
   "cell_type": "markdown",
   "metadata": {},
   "source": [
    "The name of an object might denote different things depending on where it is placed in the code. Specifically, variables that you define in the main program are global variables, variables that you define in functions are local variables. Global variables can be accessed from within functions. "
   ]
  },
  {
   "cell_type": "code",
   "execution_count": 22,
   "metadata": {
    "collapsed": true
   },
   "outputs": [],
   "source": [
    "my_favorite_economist = 'Hirschman'\n",
    "\n",
    "def print_favorite():\n",
    "    print('My favorite economist is:', my_favorite_economist + '!')"
   ]
  },
  {
   "cell_type": "code",
   "execution_count": 23,
   "metadata": {},
   "outputs": [
    {
     "name": "stdout",
     "output_type": "stream",
     "text": [
      "My favorite economist is: Hirschman!\n"
     ]
    }
   ],
   "source": [
    "print_favorite()"
   ]
  },
  {
   "cell_type": "markdown",
   "metadata": {},
   "source": [
    "However, you can also define a local variable `my_favorite_economist`."
   ]
  },
  {
   "cell_type": "code",
   "execution_count": 24,
   "metadata": {},
   "outputs": [
    {
     "name": "stdout",
     "output_type": "stream",
     "text": [
      "My favorite economist is: Acemoglu!\n",
      "My favorite economist is: Hirschman!\n"
     ]
    }
   ],
   "source": [
    "my_favorite_economist = 'Hirschman'\n",
    "\n",
    "def print_favorite():\n",
    "    my_favorite_economist = 'Acemoglu'\n",
    "    print('My favorite economist is:', my_favorite_economist + '!')\n",
    "\n",
    "print_favorite()\n",
    "print('My favorite economist is:', my_favorite_economist + '!')"
   ]
  },
  {
   "cell_type": "markdown",
   "metadata": {},
   "source": [
    "In this case, we have two variables. We first created the global variable with the value `'Hirschman'`. Then, within the function `print_favorite` we created a local variable with the same name and assigned the string `'Acemoglu'` to it. As you can see, in this case the `print_favorite` function acccesses the local namespace and therefore prints the value `'Acemoglu'`. The `print` function in the main script however looks at the global namespace and therefore prints `'Hirschman'`."
   ]
  },
  {
   "cell_type": "markdown",
   "metadata": {},
   "source": [
    "If you want to change the value of a global variable within a function you need to be explicit about it. "
   ]
  },
  {
   "cell_type": "code",
   "execution_count": 25,
   "metadata": {},
   "outputs": [
    {
     "name": "stdout",
     "output_type": "stream",
     "text": [
      "My favorite economist is: Acemoglu!\n",
      "My favorite economist is: Acemoglu!\n"
     ]
    }
   ],
   "source": [
    "my_favorite_economist = 'Hirschman'\n",
    "\n",
    "def print_favorite(): \n",
    "    global my_favorite_economist\n",
    "    my_favorite_economist = 'Acemoglu'\n",
    "    print('My favorite economist is:', my_favorite_economist + '!')\n",
    "\n",
    "print_favorite()\n",
    "print('My favorite economist is:', my_favorite_economist + '!')"
   ]
  },
  {
   "cell_type": "markdown",
   "metadata": {},
   "source": [
    "As you can see, the two functions, `print` and `print_favorite`, now print the same value, since we have changed the value of the global variable.\n",
    "\n",
    "As a general principle, I would recommend to stick with local variables and explicitly pass variables whose values you would like to have as return values. This way, your function is not able to mess up your global namespace. "
   ]
  },
  {
   "cell_type": "markdown",
   "metadata": {},
   "source": [
    "### 1.9 Error handling"
   ]
  },
  {
   "cell_type": "markdown",
   "metadata": {},
   "source": [
    "When an error occurs during the execution of a program, Python throws an exception and terminates the program."
   ]
  },
  {
   "cell_type": "code",
   "execution_count": 26,
   "metadata": {},
   "outputs": [
    {
     "name": "stdout",
     "output_type": "stream",
     "text": [
      "[0, 1, 2, 3, 4, 5, 6, 7, 8, 9, 10]\n"
     ]
    },
    {
     "ename": "IndexError",
     "evalue": "list index out of range",
     "output_type": "error",
     "traceback": [
      "\u001b[0;31m---------------------------------------------------------------------------\u001b[0m",
      "\u001b[0;31mIndexError\u001b[0m                                Traceback (most recent call last)",
      "\u001b[0;32m<ipython-input-26-256077b10d55>\u001b[0m in \u001b[0;36m<module>\u001b[0;34m()\u001b[0m\n\u001b[1;32m      1\u001b[0m \u001b[0mmy_list\u001b[0m \u001b[0;34m=\u001b[0m \u001b[0mlist\u001b[0m\u001b[0;34m(\u001b[0m\u001b[0mrange\u001b[0m\u001b[0;34m(\u001b[0m\u001b[0;36m0\u001b[0m\u001b[0;34m,\u001b[0m \u001b[0;36m11\u001b[0m\u001b[0;34m)\u001b[0m\u001b[0;34m)\u001b[0m\u001b[0;34m\u001b[0m\u001b[0m\n\u001b[1;32m      2\u001b[0m \u001b[0mprint\u001b[0m\u001b[0;34m(\u001b[0m\u001b[0mmy_list\u001b[0m\u001b[0;34m)\u001b[0m\u001b[0;34m\u001b[0m\u001b[0m\n\u001b[0;32m----> 3\u001b[0;31m \u001b[0mmy_list\u001b[0m\u001b[0;34m[\u001b[0m\u001b[0;36m11\u001b[0m\u001b[0;34m]\u001b[0m\u001b[0;34m\u001b[0m\u001b[0m\n\u001b[0m",
      "\u001b[0;31mIndexError\u001b[0m: list index out of range"
     ]
    }
   ],
   "source": [
    "my_list = list(range(0, 11))\n",
    "print(my_list)\n",
    "my_list[11]"
   ]
  },
  {
   "cell_type": "markdown",
   "metadata": {},
   "source": [
    "Sometimes however you want the program to continue, even though an error occured. Moreover, you might want to give the user of your program a more transparent message than the one given here. To handle errors, you can use `try` and `except`.  "
   ]
  },
  {
   "cell_type": "code",
   "execution_count": 27,
   "metadata": {},
   "outputs": [
    {
     "name": "stdout",
     "output_type": "stream",
     "text": [
      "You need to provide a position between 0 and 10 but you entered 11\n"
     ]
    }
   ],
   "source": [
    "my_list = list(range(0, 11))\n",
    "try: \n",
    "    position = 11\n",
    "    my_list[position]\n",
    "except: \n",
    "    print('You need to provide a position between 0 and', len(my_list)-1, 'but you entered', position)"
   ]
  },
  {
   "cell_type": "markdown",
   "metadata": {},
   "source": [
    "Since we did not qualify our `except` statement it works as a catch-all for errors. Usually, it makes more sense to specify the type of exception. "
   ]
  },
  {
   "cell_type": "code",
   "execution_count": 28,
   "metadata": {},
   "outputs": [
    {
     "name": "stdout",
     "output_type": "stream",
     "text": [
      "You need to provide a position between 0 and 10 but you entered 11\n"
     ]
    }
   ],
   "source": [
    "my_list = list(range(0, 11))\n",
    "try: \n",
    "    position = 11\n",
    "    my_list[position]\n",
    "except IndexError: \n",
    "    print('You need to provide a position between 0 and', len(my_list)-1, 'but you entered', position)"
   ]
  },
  {
   "cell_type": "markdown",
   "metadata": {},
   "source": [
    "We could then add further `except` statements to differentiate between error types. You can also just specify the `try` statement. The program will then try to execute the code that comes afterwards and simply continue if an error occurs.  "
   ]
  },
  {
   "cell_type": "markdown",
   "metadata": {},
   "source": [
    "## 2 Modularizing your code"
   ]
  },
  {
   "cell_type": "markdown",
   "metadata": {},
   "source": [
    "### 2.1 Standalone programs"
   ]
  },
  {
   "cell_type": "markdown",
   "metadata": {},
   "source": [
    "So far we have only interacted with the console or a jupyter notebook. As programs get more complicated, it makes sense to store code in separate .py files. But how do we call our program then? From the terminal of course! \n",
    "\n",
    "1. Create a new folder `my_python` at a location of your desire. \n",
    "2. Open your favorite text editor. \n",
    "3. Type the following code: `print('Welcome to the world of standalone programs!')`\n",
    "4. Save your code as the file `welcome.py` in your `my_python` folder. \n",
    "5. Use your terminal to navigate to the `my_python` folder. \n",
    "6. Type the following into the terminal: `python3 welcome.py`.\n",
    "\n",
    "If all goes well, the code in your file `welcome.py` should be executed and Python should print out the line  `Welcome to the world of standalone programs!`."
   ]
  },
  {
   "cell_type": "markdown",
   "metadata": {
    "collapsed": true
   },
   "source": [
    "### 2.1 Importing modules and functions"
   ]
  },
  {
   "cell_type": "markdown",
   "metadata": {},
   "source": [
    "So far, so good. But the whole point of stand-alone programs is that we can modularize our code and store it in different files. How can I then access code that is saved in another file? This is done by importing modules. The term 'module' is just another name for a file with python code. Let's say we want to calculate the square root of a number. We could use the `sqrt` function from the `math` module. To have access to the function we first have to import the module using the `import` statement. "
   ]
  },
  {
   "cell_type": "code",
   "execution_count": 29,
   "metadata": {},
   "outputs": [
    {
     "data": {
      "text/plain": [
       "3.0"
      ]
     },
     "execution_count": 29,
     "metadata": {},
     "output_type": "execute_result"
    }
   ],
   "source": [
    "import math\n",
    "math.sqrt(9)"
   ]
  },
  {
   "cell_type": "markdown",
   "metadata": {},
   "source": [
    "Note that in order to call the function we need to use `math.` as a prefix. This might seem annoying but really helps us to be very clear which functions we are using. Nevertheless, these prefixes are rather wordy. We can improve on it a little by giving the imported module a new name. "
   ]
  },
  {
   "cell_type": "code",
   "execution_count": 30,
   "metadata": {},
   "outputs": [
    {
     "data": {
      "text/plain": [
       "3.0"
      ]
     },
     "execution_count": 30,
     "metadata": {},
     "output_type": "execute_result"
    }
   ],
   "source": [
    "import math as m\n",
    "m.sqrt(9)"
   ]
  },
  {
   "cell_type": "markdown",
   "metadata": {},
   "source": [
    " Of course we not always have to import a complete module if we just want to use a small subset of the functions in it. We can do this with the `from` statement.  "
   ]
  },
  {
   "cell_type": "code",
   "execution_count": 31,
   "metadata": {},
   "outputs": [
    {
     "data": {
      "text/plain": [
       "0.0"
      ]
     },
     "execution_count": 31,
     "metadata": {},
     "output_type": "execute_result"
    }
   ],
   "source": [
    "from math import log\n",
    "log(1)"
   ]
  },
  {
   "cell_type": "markdown",
   "metadata": {},
   "source": [
    "Note that in this case we do not need the prefixes. We can of course also give the imported functions a new name. "
   ]
  },
  {
   "cell_type": "code",
   "execution_count": 32,
   "metadata": {},
   "outputs": [
    {
     "data": {
      "text/plain": [
       "0.0"
      ]
     },
     "execution_count": 32,
     "metadata": {},
     "output_type": "execute_result"
    }
   ],
   "source": [
    "from math import log as my_log\n",
    "my_log(1)"
   ]
  },
  {
   "cell_type": "markdown",
   "metadata": {},
   "source": [
    "### 2.2 Writing your own modules"
   ]
  },
  {
   "cell_type": "markdown",
   "metadata": {
    "collapsed": true
   },
   "source": [
    "So we have imported functions from pre-installed modules. We can however also write our own modules. It is extremely easy. Just write the functions you want to have separated in a module in a `.py` script and save it in the same folder as your main script. You can then import all functions from from your module by typing `import filename`. As with the modules above, you have to drop the `.py` suffix. Analogously to the import of functions from pre-installed modules, you can also import specific functions from your own modules. "
   ]
  },
  {
   "cell_type": "markdown",
   "metadata": {},
   "source": [
    "### 2.3 Packages"
   ]
  },
  {
   "cell_type": "markdown",
   "metadata": {},
   "source": [
    "You can add one more level of hierarchy by organizing modules in a package. This is done by creating a folder with the package name in your working directory. In the next step, you store the modules as `.py` files in the newly created folder. Finally, to import modules from packages, you have to type the following code into your program: `from package_name import module_name`. As you can see, working with modules is easy. \n"
   ]
  },
  {
   "cell_type": "markdown",
   "metadata": {},
   "source": [
    "### 2.4 Search path"
   ]
  },
  {
   "cell_type": "code",
   "execution_count": 33,
   "metadata": {},
   "outputs": [
    {
     "name": "stdout",
     "output_type": "stream",
     "text": [
      "\n",
      "/Users/jlanger/anaconda/lib/python35.zip\n",
      "/Users/jlanger/anaconda/lib/python3.5\n",
      "/Users/jlanger/anaconda/lib/python3.5/plat-darwin\n",
      "/Users/jlanger/anaconda/lib/python3.5/lib-dynload\n",
      "/Users/jlanger/anaconda/lib/python3.5/site-packages\n",
      "/Users/jlanger/anaconda/lib/python3.5/site-packages/Sphinx-1.3.1-py3.5.egg\n",
      "/Users/jlanger/anaconda/lib/python3.5/site-packages/aeosa\n",
      "/Users/jlanger/anaconda/lib/python3.5/site-packages/setuptools-20.7.0-py3.5.egg\n",
      "/Users/jlanger/anaconda/lib/python3.5/site-packages/IPython/extensions\n",
      "/Users/jlanger/.ipython\n"
     ]
    }
   ],
   "source": [
    "import sys\n",
    "for place in sys.path:\n",
    "    print(place)"
   ]
  },
  {
   "cell_type": "markdown",
   "metadata": {},
   "source": [
    "These are the places where Python looks for files. You don't see it but there is an empty string in the first line. This denotes the current working directory. "
   ]
  },
  {
   "cell_type": "markdown",
   "metadata": {},
   "source": [
    "## Sources"
   ]
  },
  {
   "cell_type": "markdown",
   "metadata": {},
   "source": [
    "The structure of exposition was taken from Bill Lubanovic (2015): Introducing Python: Modern Computing in Simple Packages. O'Reilly: Sebastopol, CA."
   ]
  }
 ],
 "metadata": {
  "kernelspec": {
   "display_name": "Python 3",
   "language": "python",
   "name": "python3"
  },
  "language_info": {
   "codemirror_mode": {
    "name": "ipython",
    "version": 3
   },
   "file_extension": ".py",
   "mimetype": "text/x-python",
   "name": "python",
   "nbconvert_exporter": "python",
   "pygments_lexer": "ipython3",
   "version": "3.6.1"
  }
 },
 "nbformat": 4,
 "nbformat_minor": 1
}
